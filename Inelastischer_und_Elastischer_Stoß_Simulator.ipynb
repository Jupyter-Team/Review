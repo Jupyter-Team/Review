{
 "cells": [
  {
   "cell_type": "markdown",
   "metadata": {},
   "source": [
    "# Smarte interaktive Skripte (smartiS)\n",
    "\n",
    "[P. Kersten](https://www.hshl.de/personen/prof-dr-ing-peter-kersten), J. Jeschonowski, L.P. Kamegne-Kamdem, N.B. Neathery und D.M. Weis\n",
    "\n",
    "[Hochschule Hamm-Lippstadt](https://www.hshl.de), Marker Allee 76–78, D-59063 Hamm"
   ]
  },
  {
   "cell_type": "markdown",
   "metadata": {},
   "source": [
    "## Stoßsimulation\n",
    "- Geschwindigkeit nach einem inelastischen Stoß \n",
    "- Spezialfall: Inelastischer Stoß zweier Körper mit gleicher Masse und gleicher Geschwindigkeit\n",
    "- Geschwindigkeiten nach einem elastischen Stoß\n",
    "- Spezialfall: Elastischer Stoß zweier Körper mit gleicher Masse und einem ruhenden Körper\n",
    "\n",
    "\n"
   ]
  },
  {
   "cell_type": "code",
   "execution_count": 1,
   "metadata": {},
   "outputs": [],
   "source": [
    "%matplotlib inline\n",
    "import numpy as np\n",
    "import sympy as sp\n",
    "import math as m\n",
    "import matplotlib.pyplot as plt\n",
    "import ipywidgets as widgets\n",
    "import scipy.optimize\n",
    "from ipywidgets import interact\n",
    "from sympy import symbols\n",
    "from sympy.plotting import plot3d\n",
    "from matplotlib.pyplot import figure\n",
    "from scipy.optimize import curve_fit\n",
    "from IPython.display import Markdown, clear_output, display, HTML"
   ]
  },
  {
   "cell_type": "code",
   "execution_count": 2,
   "metadata": {},
   "outputs": [
    {
     "data": {
      "text/html": [
       "<script>$(\"div.input\").hide()</script>"
      ],
      "text/plain": [
       "<IPython.core.display.HTML object>"
      ]
     },
     "metadata": {},
     "output_type": "display_data"
    },
    {
     "data": {
      "application/vnd.jupyter.widget-view+json": {
       "model_id": "ec92eed82c134226b64e4526f5306cca",
       "version_major": 2,
       "version_minor": 0
      },
      "text/plain": [
       "ToggleButton(value=False, description='Quellcode anzeigen')"
      ]
     },
     "metadata": {},
     "output_type": "display_data"
    }
   ],
   "source": [
    "javascript_funktion = {False: \"hide()\", True: \"show()\"}\n",
    "schaltflaeche  = {False: \"Quellcode anzeigen\", True: \"Quellcode verbergen\"}\n",
    "\n",
    "\n",
    "def quellcode_umschalten(state):\n",
    "\n",
    "    output_string = \"<script>$(\\\"div.input\\\").{}</script>\"\n",
    "    output_args   = (javascript_funktion[state],)\n",
    "    output        = output_string.format(*output_args)\n",
    "    display(HTML(output))\n",
    "\n",
    "\n",
    "def schaltflaeche_aktion(value):\n",
    "\n",
    "    state = value.new\n",
    "    quellcode_umschalten(state)\n",
    "    value.owner.description = schaltflaeche[state]\n",
    "\n",
    "\n",
    "state = False\n",
    "quellcode_umschalten(state)\n",
    "\n",
    "button = widgets.ToggleButton(state, description = schaltflaeche[state])\n",
    "button.observe(schaltflaeche_aktion, \"value\")\n",
    "\n",
    "display(button)"
   ]
  },
  {
   "cell_type": "markdown",
   "metadata": {},
   "source": [
    "## Stoßsimulation\n",
    "\n",
    "Probieren Sie selbst aus und sehen Sie was passiert. Stellen Sie die Spezialfälle nach. Überlegen Sie sich was nach dem Stoß passiert und drücken Sie dann erst den zweiten Playbutton!<br>\n",
    "**WICHTIG:**<br>\n",
    "Stelle die gewünschten Parameter ein. Klicke dann auf den **ersten Playbutton**. Sobald die Animation stoppt, drücke auf den **dazugehörigen Pausebutton**. Nun kannst du den **zweiten Playbutton** drücken. Um die Animation ein zweites mal zu starten, drücke **beide Stopbuttons**! Danach kannst du die Schritte wiederholen."
   ]
  },
  {
   "cell_type": "code",
   "execution_count": 3,
   "metadata": {},
   "outputs": [
    {
     "data": {
      "application/vnd.jupyter.widget-view+json": {
       "model_id": "61078f28cc9143d5b941be1fb6e8498c",
       "version_major": 2,
       "version_minor": 0
      },
      "text/plain": [
       "HBox(children=(MultiCanvas(height=650, width=750), VBox(children=(RadioButtons(description='Stoßart:', index=1…"
      ]
     },
     "metadata": {},
     "output_type": "display_data"
    }
   ],
   "source": [
    "from smartiS import *\n",
    "import ipywidgets as widgets\n",
    "import sympy as sp\n",
    "import numpy as np\n",
    "\n",
    "from math import pi, sin, cos\n",
    "from ipywidgets import HBox, VBox, Layout\n",
    "\n",
    "class Impuls(smartiS):\n",
    "    \n",
    "    def __init__(self):\n",
    "        \n",
    "        # Ebenen definieren\n",
    "        layers = [\"masse1\"]\n",
    "        lx = 750\n",
    "        ly = 650\n",
    "\n",
    "        # smartiS-Klasse initialisieren\n",
    "        super().__init__(canvases = layers,\n",
    "                         width    = lx,\n",
    "                         height   = ly)\n",
    "        \n",
    "        # Elemente erzeugen\n",
    "       \n",
    "        self.v1_slider = widgets.IntSlider(min = -10,\n",
    "                                          max = 10,\n",
    "                                          value = 5,\n",
    "                                          description = r\"$v1$\")\n",
    "        self.v1_slider.observe(self.draw_masse1, \"value\")\n",
    "\n",
    "        \n",
    "        self.m1_slider = widgets.FloatSlider(min = 1.0,\n",
    "                                          max = 250.0,\n",
    "                                            step=0.1,\n",
    "                                          value = 2.0,\n",
    "                                          description = r\"$m1$\")\n",
    "        self.m1_slider.observe(self.draw_masse1, \"value\")\n",
    "        \n",
    "        self.m2_slider = widgets.FloatSlider(min = 1.0,\n",
    "                                          max = 250.0,\n",
    "                                           step=0.1,\n",
    "                                          value = 2.0,\n",
    "                                          description = r\"$m2$\")\n",
    "        self.m2_slider.observe(self.draw_masse1, \"value\")\n",
    "        \n",
    "        self.v2_slider = widgets.IntSlider(min = -10,\n",
    "                                          max = 10,\n",
    "                                          value = -5,\n",
    "                                          description = r\"$v2$\")\n",
    "        self.v2_slider.observe(self.draw_masse1, \"value\")\n",
    "        \n",
    "        self.time1_slider = widgets.FloatSlider(min = 0.0,\n",
    "                                               max = 500.0,\n",
    "                                               step = 0.1,\n",
    "                                               value = 0.0)\n",
    "        \n",
    "        self.time2_slider = widgets.FloatSlider(min = 0.0,\n",
    "                                               max = 500.0,\n",
    "                                               step = 0.1,\n",
    "                                               value = 0.0)\n",
    "        \n",
    "        self.play1 = widgets.Play(\n",
    "            value=0,\n",
    "            min=0,\n",
    "            max=5000,\n",
    "            step=1,\n",
    "            interval=25,\n",
    "            description=\"Starten\",\n",
    "            disabled=False)\n",
    "        self.play1.observe(self.draw_masse1, \"value\")\n",
    "        widgets.jslink((self.play1, 'value'), (self.time1_slider, 'value'))\n",
    "        \n",
    "        self.play2 = widgets.Play(\n",
    "            value=0,\n",
    "            min=0,\n",
    "            max=5000,\n",
    "            step=1,\n",
    "            interval=25,\n",
    "            description=\"Weiterführend\",\n",
    "            disabled=False)\n",
    "        self.play2.observe(self.draw_masse1, \"value\")\n",
    "        widgets.jslink((self.play2, 'value'), (self.time2_slider, 'value'))\n",
    "\n",
    "        self.auswahl_buttons = widgets.RadioButtons(options=['inelastisch', 'elastisch'],\n",
    "                                                    value='elastisch',\n",
    "                                                    layout={'width': 'max-content'},\n",
    "                                                    description='Stoßart:',\n",
    "                                                    disabled=False\n",
    "                                                   )\n",
    "        self.auswahl_buttons.observe(self.draw_masse1, \"value\")\n",
    "        \n",
    "\n",
    "        # Elemente darstellen\n",
    "        display(HBox([\n",
    "            self.canvas,\n",
    "            VBox([self.auswahl_buttons,\n",
    "                  self.m1_slider,\n",
    "                  self.m2_slider,\n",
    "                  self.v1_slider,\n",
    "                  self.v2_slider,\n",
    "                  self.play1,\n",
    "                  self.play2,\n",
    "                 ])\n",
    "        ]))\n",
    "        \n",
    "        self.draw_masse1()\n",
    "    \n",
    "    \n",
    "    \n",
    "    def draw_masse1(self,*args):\n",
    "        \n",
    "        # Masse1 zeichnen\n",
    "        masse1 = self[\"masse1\"]\n",
    "        a = self.auswahl_buttons.value\n",
    "        tA = self.time1_slider.value\n",
    "        tE = self.time2_slider.value\n",
    "        \n",
    "        m1 = self.m1_slider.value\n",
    "        v1A = self.v1_slider.value\n",
    "        d1 = ((6 * m1)/pi)**(1/3) * 5\n",
    "        x1 = 250 + v1A * tA\n",
    "        \n",
    "        m2 = self.m2_slider.value\n",
    "        v2A = self.v2_slider.value\n",
    "        d2 = ((6 * m2)/pi)**(1/3) * 5\n",
    "        x2 = 500 + v2A * tA        \n",
    "            \n",
    "        #Eine Funktion, die den Treffzeitpunkt berechnet\n",
    "        t_T = (500-250)/(v1A-v2A)\n",
    "        \n",
    "        #Treffzeitpunkt in Anfang Bewegungsgleichung setzen und x1T und x2T berechnen\n",
    "        x1T = (250 + v1A * t_T) - d1\n",
    "        x2T = (500 + v2A * t_T) + d2\n",
    "        \n",
    "\n",
    "            #if statemant mit Radiobutton elastischer und inelastischer Stoß\n",
    "        if a == 'inelastisch':\n",
    "            vE = m1/(m1+m2) * v1A + m2/(m1+m2) * (v2A)\n",
    "            x1E = x1T + (vE * tE)\n",
    "            x2E = x2T + (vE * tE)\n",
    "            \n",
    "        elif a == 'elastisch':\n",
    "            v1E = (m1 * v1A + m2 * (2*(v2A) - v1A))/(m1 + m2)\n",
    "            v2E = (m2 * (v2A) + m1 * (2*v1A - (v2A)))/(m1 + m2)\n",
    "            x1E = x1T + (v1E * tE)\n",
    "            x2E = x2T + (v2E * tE)\n",
    "            \n",
    "        #vor dem Stoß\n",
    "        if (x1 + (d1)) < (x2 - (d2)):\n",
    "            \n",
    "            with hold_canvas(masse1):\n",
    "\n",
    "                masse1.clear()\n",
    "                masse1.stroke_arc(x1, 325, d1, 0, 2*pi)\n",
    "                masse1.fill_style = \"#00ffff\"\n",
    "                masse1.fill_arc(x1, 325, d1, 0, 2*pi)\n",
    "\n",
    "                masse1.stroke_arc(x2, 325, d2, 0, 2*pi)\n",
    "                masse1.fill_style = \"#ffff00\"\n",
    "                masse1.fill_arc(x2, 325, d2, 0, 2*pi)\n",
    "\n",
    "            \n",
    "        #nach dem Stoß\n",
    "        elif (x1 + (d1)) >= (x2 - (d2)):\n",
    "            \n",
    "            with hold_canvas(masse1):\n",
    "\n",
    "                masse1.clear()\n",
    "                masse1.stroke_arc(x1E, 325, d1, 0, 2*pi)\n",
    "                masse1.fill_style = \"#00ffff\"\n",
    "                masse1.fill_arc(x1E, 325, d1, 0, 2*pi)\n",
    "\n",
    "                masse1.stroke_arc(x2E, 325, d2, 0, 2*pi)\n",
    "                masse1.fill_style = \"#ffff00\"\n",
    "                masse1.fill_arc(x2E, 325, d2, 0, 2*pi)\n",
    "                                \n",
    "    \n",
    "            \n",
    "      \n",
    "            \n",
    "I = Impuls()\n"
   ]
  },
  {
   "cell_type": "markdown",
   "metadata": {},
   "source": [
    "# Wie fandet ihr dieses smarti?\n",
    "\n",
    "[Lasst uns gerne Feedback da!](https://pingo.coactum.de/460203) Viel Spaß wünscht das smartiS Team :-)"
   ]
  },
  {
   "cell_type": "markdown",
   "metadata": {},
   "source": [
    "Dezemeber 2020 (CC BY-SA 4.0)"
   ]
  }
 ],
 "metadata": {
  "celltoolbar": "Slideshow",
  "kernelspec": {
   "display_name": "Python 3",
   "language": "python",
   "name": "python3"
  },
  "language_info": {
   "codemirror_mode": {
    "name": "ipython",
    "version": 3
   },
   "file_extension": ".py",
   "mimetype": "text/x-python",
   "name": "python",
   "nbconvert_exporter": "python",
   "pygments_lexer": "ipython3",
   "version": "3.7.6"
  }
 },
 "nbformat": 4,
 "nbformat_minor": 2
}
