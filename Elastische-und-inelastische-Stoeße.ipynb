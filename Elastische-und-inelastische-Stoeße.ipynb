{
 "cells": [
  {
   "cell_type": "markdown",
   "metadata": {},
   "source": [
    "\n",
    "# Smarte und interaktive Kurzskripte (smartiS)\n",
    "\n",
    "# Elastische und inelastische Stöße\n",
    " \n",
    "[P. Kersten](https://www.hshl.de/personen/prof-dr-ing-peter-kersten), [J. Jeschonowski](https://www.xing.com/profile/Jule_Jeschonowski/cv), [L.P. Kamegne-Kamdem](https://www.linkedin.com/in/leger-paco-kamegne-kamdem-07ba39184/), [N.B. Neathery](https://www.linkedin.com/in/noel-neathery-6371561a6/) und D.M. Weis\n",
    "\n",
    "[Hochschule Hamm-Lippstadt](https://www.hshl.de), Marker Allee 76–78, D-59063 Hamm\n",
    "\n"
   ]
  },
  {
   "cell_type": "markdown",
   "metadata": {},
   "source": [
    "# Inhalt\n",
    "\n",
    "- Zentraler elastischer Stoß\n",
    "- Zentraler unelastischer Stoß"
   ]
  },
  {
   "cell_type": "markdown",
   "metadata": {},
   "source": [
    "## Basics:  \n",
    "  \n",
    "  - In einem abgeschlossenen System mit konservativen Kräften gilt der Energieerhaltungssatz.\n",
    "  - Ein Hartgummiball, der auf einen gefliesten Boden fällt, erreicht fast wieder seine ursprüngliche Höhe, man spricht von         einem elastischen Stoß.\n",
    "  - Wenn man ein Stück Knetgummi aus der gleichen Höhe fallen lässt, wird die kinetische Energie vollständig vernichtet, man       spricht von einem inelastischenStoß, den Energieerhaltungssatz gilt hier nicht.\n",
    "  - Welche inelastischeProzesse fallen Ihnen ein?\n",
    "  - Wie kann man inelastischeProzesse beschreiben?\n"
   ]
  },
  {
   "cell_type": "markdown",
   "metadata": {},
   "source": [
    "<table width=\"100%\">\n",
    "    <tr>\n",
    "        <td align=\"center\">\n",
    "            <b></b>\n",
    "        </td>\n",
    "        <td align=\"center\">\n",
    "            <b></b>\n",
    "        </td>\n",
    "    </tr>\n",
    "    <tr>\n",
    "        <td width=30% valign=\"top\" align=\"center\">\n",
    "            <img src=\"Elastischer Stoss.jpg\">\n",
    "        </td>\n",
    "        <td width=80% valign=\"top\" align=\"center\">\n",
    "            <img src=\"Inelastischer Stoss.jpg\">\n",
    "        </td>\n",
    "       \n",
    " \n",
    "   \n",
    "</table>"
   ]
  },
  {
   "cell_type": "markdown",
   "metadata": {},
   "source": [
    "# $$  Impulserhaltung $$\n",
    " $$\n",
    "            \\begin{split}\n",
    "            m_{1}\\cdot v_{1a} & + m_{2}\\cdot v_{2a} & = m_{1}\\cdot v_{1e} & + m_{2}\\cdot v_{2e}  \\\\\n",
    "            \\end{split}\n",
    "            $$\n",
    "# $$  Energieerhaltung $$\n",
    " $$\n",
    "            \\begin{split}\n",
    "            (1/2)\\cdot m_{1}\\cdot v_{1a}^2 & + (1/2) \\cdot m_{2}\\cdot v_{2a}^2 & = (1/2) \\cdot m_{1}\\cdot v_{1e}^2 & + (1/2) \\cdot m_{2}\\cdot v_{2e}^2  \\\\\n",
    "            \\end{split}\n",
    "            $$\n",
    "            \n",
    "            \n",
    "            \n"
   ]
  },
  {
   "cell_type": "code",
   "execution_count": 1,
   "metadata": {},
   "outputs": [],
   "source": [
    "%matplotlib inline\n",
    "\n",
    "import ipywidgets as widgets\n",
    "import matplotlib.animation as animation\n",
    "\n",
    "from math import *\n",
    "from IPython.display import Image\n",
    "from ipywidgets import interact\n",
    "from IPython.display import Markdown, clear_output, display\n",
    "from sympy import symbols, Eq, solve\n",
    "from ipywidgets import Image, HBox\n",
    "from ipycanvas import Canvas, hold_canvas\n",
    "from IPython.display import Markdown, clear_output, display, HTML"
   ]
  },
  {
   "cell_type": "code",
   "execution_count": 2,
   "metadata": {},
   "outputs": [
    {
     "data": {
      "text/html": [
       "<script>$(\"div.input\").hide()</script>"
      ],
      "text/plain": [
       "<IPython.core.display.HTML object>"
      ]
     },
     "metadata": {},
     "output_type": "display_data"
    },
    {
     "data": {
      "application/vnd.jupyter.widget-view+json": {
       "model_id": "a7407a5cff3e457bacf9f552a449a3e2",
       "version_major": 2,
       "version_minor": 0
      },
      "text/plain": [
       "ToggleButton(value=False, description='Quellcode anzeigen')"
      ]
     },
     "metadata": {},
     "output_type": "display_data"
    }
   ],
   "source": [
    "javascript_funktion = {False: \"hide()\", True: \"show()\"}\n",
    "schaltflaeche  = {False: \"Quellcode anzeigen\", True: \"Quellcode verbergen\"}\n",
    "\n",
    "\n",
    "def quellcode_umschalten(state):\n",
    "\n",
    "    output_string = \"<script>$(\\\"div.input\\\").{}</script>\"\n",
    "    output_args   = (javascript_funktion[state],)\n",
    "    output        = output_string.format(*output_args)\n",
    "    display(HTML(output))\n",
    "\n",
    "\n",
    "def schaltflaeche_aktion(value):\n",
    "\n",
    "    state = value.new\n",
    "    quellcode_umschalten(state)\n",
    "    value.owner.description = schaltflaeche[state]\n",
    "\n",
    "\n",
    "state = False\n",
    "quellcode_umschalten(state)\n",
    "\n",
    "button = widgets.ToggleButton(state, description = schaltflaeche[state])\n",
    "button.observe(schaltflaeche_aktion, \"value\")\n",
    "\n",
    "display(button)"
   ]
  },
  {
   "cell_type": "markdown",
   "metadata": {},
   "source": [
    "## Zentraler elastischer Stoß"
   ]
  },
  {
   "cell_type": "markdown",
   "metadata": {},
   "source": [
    "Beim ideal elastischen oder vollelastischen Stoß stoßen zwei Körper aufeinander, ohne dass dabei Energie in innere Energie, beispielsweise Wärme oder Deformation, umgewandelt wird. Nach dem Energieerhaltungssatz ist die Summe der Bewegungsenergien (= der kinetischen Energien) vor dem Stoß genau so groß wie nach dem Stoß. Dasselbe gilt nach dem Impulserhaltungssatz auch für die vektorielle Summe der Impulse."
   ]
  },
  {
   "cell_type": "markdown",
   "metadata": {},
   "source": [
    "## Knowledge Check(s) "
   ]
  },
  {
   "cell_type": "markdown",
   "metadata": {},
   "source": [
    "Sie wiegen $70 kg$ und rollen mit $3 m/s$ auf Ihrem $5 kg$ schweren Skateboard auf Ihren Freund Max zu. Jetzt springen Sie nach hinten ab,\n",
    "so dass Sie auf $v = 1,5 m/s$ abbremsen und lässig zum Stehen kommt.\n",
    "\n",
    "Wie schnell schießt das Skateboard jetzt in Richtung auf Ihren Freund Max davon?\n",
    "Überlegen Sie sich und wählen Sie aus den folgenden Fällen aus, welcher Fall diesem Fall entspricht und lösen Sie mit Hilfe der Schieberegler die Aufgabe."
   ]
  },
  {
   "cell_type": "markdown",
   "metadata": {},
   "source": [
    "#### 1. Fall\n",
    "\n",
    "\n",
    "$$\n",
    "            \\begin{split}\n",
    "            & m_{1}\\cdot v_{1a}  + m_{2}\\cdot v_{2a}  = m_{1}\\cdot v_{1e}  + m_{2}\\cdot v_{2e}  \\\\\n",
    "            Mit \\\\\n",
    "            & v_{1e}  =  v_{2a} = 0 \\\\\n",
    "            und \\\\\n",
    "            & v_{e2}  = v_{1a} \\\\\n",
    "            also \\\\\n",
    "            & m_{1} \\cdot v_{1a}  = m_{2} \\cdot v_{1a} \\\\\n",
    "            \\end{split}\n",
    "            $$\n",
    "            "
   ]
  },
  {
   "cell_type": "code",
   "execution_count": 3,
   "metadata": {},
   "outputs": [
    {
     "data": {
      "application/vnd.jupyter.widget-view+json": {
       "model_id": "6bfc5fed801a43238f339de2d1025a57",
       "version_major": 2,
       "version_minor": 0
      },
      "text/plain": [
       "interactive(children=(Dropdown(description='Masse1:', options=('m1', 'm2', 'v1a', 'v2a', 'v1e', 'v2e'), value=…"
      ]
     },
     "metadata": {},
     "output_type": "display_data"
    },
    {
     "data": {
      "application/vnd.jupyter.widget-view+json": {
       "model_id": "f0b715c1cea548f2b9e5f4bc6f93340c",
       "version_major": 2,
       "version_minor": 0
      },
      "text/plain": [
       "interactive(children=(Dropdown(description='Masse1:', options=('m1', 'm2', 'v1a', 'v2a', 'v1e', 'v2e'), value=…"
      ]
     },
     "metadata": {},
     "output_type": "display_data"
    },
    {
     "data": {
      "text/html": [
       "<img src=\"V1-Gif.gif\"/>"
      ],
      "text/plain": [
       "<IPython.core.display.Image object>"
      ]
     },
     "execution_count": 3,
     "metadata": {},
     "output_type": "execute_result"
    }
   ],
   "source": [
    "Res = widgets.Dropdown(\n",
    "    options=['m1', 'm2', 'v1a', 'v2a','v1e', 'v2e'],\n",
    "    value='m1',\n",
    "    description='Masse1:',\n",
    "    disabled=False,\n",
    ")\n",
    "\n",
    "Tens =widgets.Dropdown(\n",
    "    options=['m1', 'm2', 'v1a', 'v2a','v1e', 'v2e'],\n",
    "    value='m2',\n",
    "    description='Masse2:',\n",
    "    disabled=False,\n",
    ")\n",
    "\n",
    "Int=widgets.Dropdown(\n",
    "    options=['m1', 'm2', 'v1a', 'v2a','v1e', 'v2e'],\n",
    "    value='v1a',\n",
    "    description='Geschwindigkeit1:',\n",
    "    disabled=False,\n",
    ")\n",
    "\n",
    "Int=widgets.Dropdown(\n",
    "    options=['m1', 'm2', 'v1a', 'v2a','v1e', 'v2e'],\n",
    "    value='v2a',\n",
    "    description='Geschwindigkeit2:',\n",
    "    disabled=False,\n",
    ")\n",
    "\n",
    "\n",
    "\n",
    "Slider_m1 = widgets.FloatSlider(min=1.0, max=50000.0, step=0.1, value=100.0, description='m1 in g')\n",
    "Slider_m2 = widgets.FloatSlider(min=1.0, max=50000.0, step=0.1, value=100.0, description='m2 in g')\n",
    "Slider_v1a = widgets.FloatSlider(min=1.0, max=500.0, step=0.1, value=200.0, description='v1a in m/s')\n",
    "Slider_v2a = widgets.FloatSlider(min=1.0, max=500.0, step=0.1, value=400.0, description='v2a in m/s')\n",
    "\n",
    "# 1. Fall\n",
    "\n",
    "def fonc_Res (Endgeschwindigkeit2, Slider_m1, Slider_m2, Slider_v1a,Slider_v2a):\n",
    "    if Endgeschwindigkeit2 == 'm1':\n",
    "        v2e = Slider_m1\n",
    "        print(f'm1 = {v2e} g')\n",
    "        \n",
    "    elif Endgeschwindigkeit2 == 'm2':\n",
    "        v2e = Slider_m2\n",
    "        print(f' m2 = {v2e} g')\n",
    "        \n",
    "    elif Endgeschwindigkeit2 == 'v1a':\n",
    "        v2e = Slider_v1a\n",
    "        print(f'v1 = {v2e} m/s')\n",
    "        \n",
    "    elif Endgeschwindigkeit2 == 'v2a':\n",
    "        v2e = Slider_v2a\n",
    "        print(f'v2 = {v2e} m/s')\n",
    "        \n",
    "    else:\n",
    "        v2e = (Slider_m1 * Slider_v1a) / (Slider_m2)\n",
    "        print(f'v2e = ((m1 * v1a + m2 * v2a) - m1 * v1e )/ (m2) = {v2e} m/s')\n",
    "        \n",
    "    return v2e\n",
    "\n",
    "def fonc_Res1 (Endgeschwindigkeit2, Slider_m1, Slider_m2, Slider_v1a,Slider_v2a):\n",
    "    if Endgeschwindigkeit2 == 'm1':\n",
    "        v1e = Slider_m1\n",
    "        print(f'm1 = {v1e} g')\n",
    "        \n",
    "    elif Endgeschwindigkeit2 == 'm2':\n",
    "        v1e = Slider_m2\n",
    "        print(f' m2 = {v1e} g')\n",
    "        \n",
    "    elif Endgeschwindigkeit2 == 'v1a':\n",
    "        v1e = Slider_v1a\n",
    "        print(f'v1 = {v1e} m/s')\n",
    "        \n",
    "    elif Endgeschwindigkeit2 == 'v2a':\n",
    "        v1e = Slider_v2a\n",
    "        print(f'v2 = {v1e} m/s')\n",
    "        \n",
    "    else:\n",
    "        v1e = 0\n",
    "        print(f'v1e = ((m1 * v1a + m2 * v2a) - m2 * v2e )/ (m1) = {v1e} m/s')\n",
    "        \n",
    "    return v1e\n",
    "    \n",
    "\n",
    "widgets.interact(fonc_Res, Endgeschwindigkeit2 = Res, \n",
    "                  Slider_m1 = Slider_m1, Slider_m2 = Slider_m2, Slider_v1a = Slider_v1a, Slider_v2a = Slider_v2a)\n",
    "\n",
    "widgets.interact(fonc_Res1, Endgeschwindigkeit2 = Res, \n",
    "                  Slider_m1 = Slider_m1, Slider_m2 = Slider_m2, Slider_v1a = Slider_v1a, Slider_v2a = Slider_v2a)\n",
    "\n",
    "from IPython.display import Image\n",
    "Image(url='V1-Gif.gif')"
   ]
  },
  {
   "cell_type": "markdown",
   "metadata": {},
   "source": [
    "### In diesem Fall haben wir $m1 = m2$, \n",
    "### $v1a = v2e$ ist die relative Geschwindigkeit und $v2a = v1e = 0$. "
   ]
  },
  {
   "cell_type": "markdown",
   "metadata": {},
   "source": [
    "#### 2. Fall\n",
    "\n",
    "$$\n",
    "            \\begin{split}\n",
    "            & m_{1}\\cdot v_{1a}  + m_{2}\\cdot v_{2a}  = m_{1}\\cdot v_{1e}  + m_{2}\\cdot v_{2e}  \\\\\n",
    "            Mit \\\\  \n",
    "            & v_{1e}  = (-1/2) \\cdot v_{2a}  \\\\\n",
    "            und \\\\\n",
    "            & v_{e2}  = -2 \\cdot v_{2a} \\\\\n",
    "            also \\\\\n",
    "            & m_{1} \\cdot v_{1a}  + m_{2} \\cdot v_{2a}  = (-1/2) \\cdot m_{1} \\cdot v_{1a}  + 2 \\cdot m_{2} \\cdot v_{2a} \\\\\n",
    "            \\end{split}\n",
    "            $$"
   ]
  },
  {
   "cell_type": "code",
   "execution_count": 4,
   "metadata": {},
   "outputs": [
    {
     "data": {
      "application/vnd.jupyter.widget-view+json": {
       "model_id": "181ae07c675240dc9d10cf6b10ef08cd",
       "version_major": 2,
       "version_minor": 0
      },
      "text/plain": [
       "interactive(children=(Dropdown(description='Geschwindigkeit2:', index=3, options=('m1', 'm2', 'v1a', 'v2a', 'v…"
      ]
     },
     "metadata": {},
     "output_type": "display_data"
    },
    {
     "data": {
      "application/vnd.jupyter.widget-view+json": {
       "model_id": "540707224c504436b02884941c6af8c0",
       "version_major": 2,
       "version_minor": 0
      },
      "text/plain": [
       "interactive(children=(Dropdown(description='Geschwindigkeit2:', index=3, options=('m1', 'm2', 'v1a', 'v2a', 'v…"
      ]
     },
     "metadata": {},
     "output_type": "display_data"
    },
    {
     "data": {
      "text/html": [
       "<img src=\"V2-Gif.gif\"/>"
      ],
      "text/plain": [
       "<IPython.core.display.Image object>"
      ]
     },
     "execution_count": 4,
     "metadata": {},
     "output_type": "execute_result"
    }
   ],
   "source": [
    "\n",
    "Res = widgets.Dropdown(\n",
    "    options=['m1', 'm2', 'v1a', 'v2a','v1e', 'v2e'],\n",
    "    value='m1',\n",
    "    description='Masse1:',\n",
    "    disabled=False,\n",
    ")\n",
    "\n",
    "Tens =widgets.Dropdown(\n",
    "    options=['m1', 'm2', 'v1a', 'v2a','v1e', 'v2e'],\n",
    "    value='m2',\n",
    "    description='Masse2:',\n",
    "    disabled=False,\n",
    ")\n",
    "\n",
    "Int=widgets.Dropdown(\n",
    "    options=['m1', 'm2', 'v1a', 'v2a','v1e', 'v2e'],\n",
    "    value='v1a',\n",
    "    description='Geschwindigkeit1:',\n",
    "    disabled=False,\n",
    ")\n",
    "\n",
    "Int=widgets.Dropdown(\n",
    "    options=['m1', 'm2', 'v1a', 'v2a','v1e', 'v2e'],\n",
    "    value='v2a',\n",
    "    description='Geschwindigkeit2:',\n",
    "    disabled=False,\n",
    ")\n",
    "\n",
    "\n",
    "\n",
    "Slider_m1 = widgets.FloatSlider(min=1.0, max=50000.0, step=0.1, value=100.0, description='m1 in g')\n",
    "Slider_m2 = widgets.FloatSlider(min=1.0, max=50000.0, step=0.1, value=100.0, description='m2 in g')\n",
    "Slider_v1a = widgets.FloatSlider(min=1.0, max=500.0, step=0.1, value=200.0, description='v1a in m/s')\n",
    "Slider_v2a = widgets.FloatSlider(min=1.0, max=500.0, step=0.1, value=400.0, description='v2a in m/s')\n",
    "  #  2. Fall\n",
    "def fonc_Int (Endgeschwindigkeit1, Slider_m1, Slider_m2, Slider_v1a,Slider_v2a):\n",
    "    \n",
    "    if Endgeschwindigkeit1 == 'm1':\n",
    "        v1e = Slider_m1\n",
    "        print(f'm1 = {v1e} g')\n",
    "        \n",
    "    elif Endgeschwindigkeit1 == 'm2':\n",
    "        v1e = Slider_m2\n",
    "        print(f' m2 = {v1e} g')\n",
    "        \n",
    "    elif Endgeschwindigkeit1 == 'v1a':\n",
    "        v1e = Slider_v1a\n",
    "        print(f'v1a = {v1e} m/s')\n",
    "        \n",
    "    elif Endgeschwindigkeit1 == 'v2a':\n",
    "        v1e = Slider_v2a\n",
    "        print(f'v2a = {v1e} m/s')\n",
    "        \n",
    "    else:\n",
    "        #v1e = (Slider_m1 * Slider_v1 + Slider_m2 * Slider_v2) -/ (Slider_m1 + Slider_m2 * v2e)\n",
    "        v1e = Slider_v1a\n",
    "        print(f'v1e = ((m1 * v1a + m2 * v2a) - m2 * v2e )/ (m1) = {v1e} m/s')\n",
    "        \n",
    "    return v1e\n",
    "\n",
    "def fonc_Int1 (Endgeschwindigkeit1, Slider_m1, Slider_m2, Slider_v1a,Slider_v2a):\n",
    "    \n",
    "    if Endgeschwindigkeit1 == 'm1':\n",
    "        v2e = Slider_m1\n",
    "        print(f'm1 = {v2e} g')\n",
    "        \n",
    "    elif Endgeschwindigkeit1 == 'm2':\n",
    "        v2e = Slider_m2\n",
    "        print(f' m2 = {v2e} g')\n",
    "        \n",
    "    elif Endgeschwindigkeit1 == 'v1a':\n",
    "        v2e = Slider_v2a\n",
    "        print(f'v1a = {v2e} m/s')\n",
    "        \n",
    "    elif Endgeschwindigkeit1 == 'v2a':\n",
    "        v2e = Slider_v2a\n",
    "        print(f'v2a = {v2e} m/s')\n",
    "        \n",
    "    else:\n",
    "        #v1e = (Slider_m1 * Slider_v1 + Slider_m2 * Slider_v2) -/ (Slider_m1 + Slider_m2 * v2e)\n",
    "        v2e = (-1/2) * Slider_v2a\n",
    "        print(f'v2e = ((m1 * v1a + m2 * v2a) - m1 * v1e )/ (m2) = {v2e} m/s')\n",
    "        \n",
    "    return v2e\n",
    "\n",
    "\n",
    "widgets.interact(fonc_Int, Endgeschwindigkeit1 = Int, \n",
    "                   Slider_m1 = Slider_m1, Slider_m2 = Slider_m2, Slider_v1a = Slider_v1a, Slider_v2a = Slider_v2a)\n",
    "\n",
    "widgets.interact(fonc_Int1, Endgeschwindigkeit1 = Int, \n",
    "                   Slider_m1 = Slider_m1, Slider_m2 = Slider_m2, Slider_v1a = Slider_v1a, Slider_v2a = Slider_v2a)\n",
    "\n",
    "#canvas\n",
    "from IPython.display import Image\n",
    "Image(url='V2-Gif.gif')"
   ]
  },
  {
   "cell_type": "markdown",
   "metadata": {},
   "source": [
    "### In diesem Fall haben wir $m1 = m2$, \n",
    "### $v1a = - 1/2(v2a)$ und $v2e = - (1/2)v1e$. "
   ]
  },
  {
   "cell_type": "markdown",
   "metadata": {},
   "source": [
    "### 3. Fall\n",
    "\n",
    "\n",
    "$$\n",
    "            \\begin{split}\n",
    "            & m_{1}\\cdot v_{1a}  + m_{2}\\cdot v_{2a}  = m_{1}\\cdot v_{1e}  + m_{2}\\cdot v_{2e}  \\\\\n",
    "            Mit \\\\ \n",
    "            & v_{1e}  = (1/2) \\cdot v_{1a}  \\\\\n",
    "            und \\\\ \n",
    "            & v_{2e}  = 2 \\cdot v_{2a} \\\\\n",
    "            also \\\\\n",
    "            & m_{1} \\cdot v_{1a}  + m_{2} \\cdot v_{2a}  = (1/2) \\cdot m_{1} \\cdot v_{1a}  + 2 \\cdot m_{2} \\cdot v_{2a} \\\\\n",
    "            \\end{split}\n",
    "            $$"
   ]
  },
  {
   "cell_type": "code",
   "execution_count": 5,
   "metadata": {},
   "outputs": [
    {
     "data": {
      "application/vnd.jupyter.widget-view+json": {
       "model_id": "c6449082d9ee4e86b34fe5858a9918d2",
       "version_major": 2,
       "version_minor": 0
      },
      "text/plain": [
       "interactive(children=(Dropdown(description='Geschwindigkeit2:', index=3, options=('m1', 'm2', 'v1a', 'v2a', 'v…"
      ]
     },
     "metadata": {},
     "output_type": "display_data"
    },
    {
     "data": {
      "application/vnd.jupyter.widget-view+json": {
       "model_id": "280c7f9dee3044c79ff0d1f3af4eea97",
       "version_major": 2,
       "version_minor": 0
      },
      "text/plain": [
       "interactive(children=(Dropdown(description='Geschwindigkeit2:', index=3, options=('m1', 'm2', 'v1a', 'v2a', 'v…"
      ]
     },
     "metadata": {},
     "output_type": "display_data"
    },
    {
     "data": {
      "text/html": [
       "<img src=\"V3-Gif.gif\"/>"
      ],
      "text/plain": [
       "<IPython.core.display.Image object>"
      ]
     },
     "execution_count": 5,
     "metadata": {},
     "output_type": "execute_result"
    }
   ],
   "source": [
    "\n",
    "Res = widgets.Dropdown(\n",
    "    options=['m1', 'm2', 'v1a', 'v2a','v1e', 'v2e'],\n",
    "    value='m1',\n",
    "    description='Masse1:',\n",
    "    disabled=False,\n",
    ")\n",
    "\n",
    "Tens =widgets.Dropdown(\n",
    "    options=['m1', 'm2', 'v1a', 'v2a','v1e', 'v2e'],\n",
    "    value='m2',\n",
    "    description='Masse2:',\n",
    "    disabled=False,\n",
    ")\n",
    "\n",
    "Int=widgets.Dropdown(\n",
    "    options=['m1', 'm2', 'v1a', 'v2a','v1e', 'v2e'],\n",
    "    value='v1a',\n",
    "    description='Geschwindigkeit1:',\n",
    "    disabled=False,\n",
    ")\n",
    "\n",
    "Int=widgets.Dropdown(\n",
    "    options=['m1', 'm2', 'v1a', 'v2a','v1e', 'v2e'],\n",
    "    value='v2a',\n",
    "    description='Geschwindigkeit2:',\n",
    "    disabled=False,\n",
    ")\n",
    "\n",
    "\n",
    "\n",
    "Slider_m1 = widgets.FloatSlider(min=1.0, max=50000.0, step=0.1, value=100.0, description='m1 in g')\n",
    "Slider_m2 = widgets.FloatSlider(min=1.0, max=50000.0, step=0.1, value=100.0, description='m2 in g')\n",
    "Slider_v1a = widgets.FloatSlider(min=1.0, max=500.0, step=0.1, value=200.0, description='v1a in m/s')\n",
    "Slider_v2a = widgets.FloatSlider(min=1.0, max=500.0, step=0.1, value=400.0, description='v2a in m/s')\n",
    "  #  2. Fall\n",
    "\n",
    "\n",
    "def fonc_Int (Endgeschwindigkeit1, Slider_m1, Slider_m2, Slider_v1a,Slider_v2a):\n",
    "    \n",
    "    if Endgeschwindigkeit1 == 'm1':\n",
    "        v1e = Slider_m1\n",
    "        print(f'm1 = {v1e} g')\n",
    "        \n",
    "    elif Endgeschwindigkeit1 == 'm2':\n",
    "        v1e = Slider_m2\n",
    "        print(f' m2 = {v1e} g')\n",
    "        \n",
    "    elif Endgeschwindigkeit1 == 'v1a':\n",
    "        v1e = Slider_v1a\n",
    "        print(f'v1a = {v1e} m/s')\n",
    "        \n",
    "    elif Endgeschwindigkeit1 == 'v2a':\n",
    "        v1e = Slider_v2a\n",
    "        print(f'v2a = {v1e} m/s')\n",
    "        \n",
    "    else:\n",
    "        #v1e = (Slider_m1 * Slider_v1 + Slider_m2 * Slider_v2) -/ (Slider_m1 + Slider_m2 * v2e)\n",
    "        v1e = (1/2) * Slider_v1a\n",
    "        print(f'v1e = ((m1 * v1a + m2 * v2a) - m2 * v2e )/ (m1) = {v1e} m/s')\n",
    "        \n",
    "    return v1e\n",
    "\n",
    "def fonc_Int1 (Endgeschwindigkeit1, Slider_m1, Slider_m2, Slider_v1a,Slider_v2a):\n",
    "    \n",
    "    if Endgeschwindigkeit1 == 'm1':\n",
    "        v2e = Slider_m1\n",
    "        print(f'm1 = {v2e} g')\n",
    "        \n",
    "    elif Endgeschwindigkeit1 == 'm2':\n",
    "        v2e = Slider_m2\n",
    "        print(f' m2 = {v2e} g')\n",
    "        \n",
    "    elif Endgeschwindigkeit1 == 'v1a':\n",
    "        v2e = Slider_v2a\n",
    "        print(f'v1a = {v2e} m/s')\n",
    "        \n",
    "    elif Endgeschwindigkeit1 == 'v2a':\n",
    "        v2e = Slider_v2a\n",
    "        print(f'v2a = {v2e} m/s')\n",
    "        \n",
    "    else:\n",
    "        #v1e = (Slider_m1 * Slider_v1 + Slider_m2 * Slider_v2) -/ (Slider_m1 + Slider_m2 * v2e)\n",
    "        v2e = (2) * Slider_v2a\n",
    "        print(f'v2e = ((m1 * v1a + m2 * v2a) - m1 * v1e )/ (m2) = {v2e} m/s')\n",
    "        \n",
    "    return v2e\n",
    "\n",
    "\n",
    "widgets.interact(fonc_Int, Endgeschwindigkeit1 = Int, \n",
    "                   Slider_m1 = Slider_m1, Slider_m2 = Slider_m2, Slider_v1a = Slider_v1a, Slider_v2a = Slider_v2a)\n",
    "\n",
    "widgets.interact(fonc_Int1, Endgeschwindigkeit1 = Int, \n",
    "                   Slider_m1 = Slider_m1, Slider_m2 = Slider_m2, Slider_v1a = Slider_v1a, Slider_v2a = Slider_v2a)\n",
    "\n",
    "#canvas\n",
    "from IPython.display import Image\n",
    "Image(url='V3-Gif.gif')"
   ]
  },
  {
   "cell_type": "markdown",
   "metadata": {},
   "source": [
    "### In diesem Fall haben wir $m1 = m2$,\n",
    "### $v1a = (1/2)*v2a$ und $v2e = (1/2)*v1e$. "
   ]
  },
  {
   "cell_type": "markdown",
   "metadata": {},
   "source": [
    "### 4. Fall\n",
    "\n",
    "\n",
    "$$\n",
    "            \\begin{split}\n",
    "            & m_{1}\\cdot v_{1a}  + m_{2}\\cdot v_{2a}  = m_{1}\\cdot v_{1e}  + m_{2}\\cdot v_{2e}  \\\\\n",
    "            Mit \\\\\n",
    "            & v_{1e}  = (1/3) \\cdot v_{1a}  \\\\\n",
    "            und \\\\\n",
    "            & v_{2e}  = (5/3) \\cdot v_{2a} \\\\\n",
    "            also \\\\\n",
    "            & m_{1} \\cdot v_{1a}  + m_{2} \\cdot v_{2a}  = (1/3) \\cdot m_{1} \\cdot v_{1a}  + (5/3) \\cdot m_{2} \\cdot v_{2a} \\\\\n",
    "            \\end{split}\n",
    "            $$"
   ]
  },
  {
   "cell_type": "code",
   "execution_count": 6,
   "metadata": {},
   "outputs": [
    {
     "data": {
      "application/vnd.jupyter.widget-view+json": {
       "model_id": "fdde58b4f7b4471592187a03e710d6a8",
       "version_major": 2,
       "version_minor": 0
      },
      "text/plain": [
       "interactive(children=(Dropdown(description='Geschwindigkeit2:', index=3, options=('m1', 'm2', 'v1a', 'v2a', 'v…"
      ]
     },
     "metadata": {},
     "output_type": "display_data"
    },
    {
     "data": {
      "application/vnd.jupyter.widget-view+json": {
       "model_id": "f4cb3ee0f4124c678c149bdc971b2dc7",
       "version_major": 2,
       "version_minor": 0
      },
      "text/plain": [
       "interactive(children=(Dropdown(description='Geschwindigkeit2:', index=3, options=('m1', 'm2', 'v1a', 'v2a', 'v…"
      ]
     },
     "metadata": {},
     "output_type": "display_data"
    },
    {
     "data": {
      "text/html": [
       "<img src=\"V4-Gif.gif\"/>"
      ],
      "text/plain": [
       "<IPython.core.display.Image object>"
      ]
     },
     "execution_count": 6,
     "metadata": {},
     "output_type": "execute_result"
    }
   ],
   "source": [
    "\n",
    "Res = widgets.Dropdown(\n",
    "    options=['m1', 'm2', 'v1a', 'v2a','v1e', 'v2e'],\n",
    "    value='m1',\n",
    "    description='Masse1:',\n",
    "    disabled=False,\n",
    ")\n",
    "\n",
    "Tens =widgets.Dropdown(\n",
    "    options=['m1', 'm2', 'v1a', 'v2a','v1e', 'v2e'],\n",
    "    value='m2',\n",
    "    description='Masse2:',\n",
    "    disabled=False,\n",
    ")\n",
    "\n",
    "Int=widgets.Dropdown(\n",
    "    options=['m1', 'm2', 'v1a', 'v2a','v1e', 'v2e'],\n",
    "    value='v1a',\n",
    "    description='Geschwindigkeit1:',\n",
    "    disabled=False,\n",
    ")\n",
    "\n",
    "Int=widgets.Dropdown(\n",
    "    options=['m1', 'm2', 'v1a', 'v2a','v1e', 'v2e'],\n",
    "    value='v2a',\n",
    "    description='Geschwindigkeit2:',\n",
    "    disabled=False,\n",
    ")\n",
    "\n",
    "\n",
    "\n",
    "Slider_m1 = widgets.FloatSlider(min=1.0, max=50000.0, step=0.1, value=100.0, description='m1 in g')\n",
    "Slider_m2 = widgets.FloatSlider(min=1.0, max=50000.0, step=0.1, value=100.0, description='m2 in g')\n",
    "Slider_v1a = widgets.FloatSlider(min=1.0, max=500.0, step=0.1, value=200.0, description='v1a in m/s')\n",
    "Slider_v2a = widgets.FloatSlider(min=1.0, max=500.0, step=0.1, value=400.0, description='v2a in m/s')\n",
    "  #  2. Fall\n",
    "    \n",
    "def fonc_Int (Endgeschwindigkeit1, Slider_m1, Slider_m2, Slider_v1a,Slider_v2a):\n",
    "    \n",
    "    if Endgeschwindigkeit1 == 'm1':\n",
    "        v1e = Slider_m1\n",
    "        print(f'm1 = {v1e} g')\n",
    "        \n",
    "    elif Endgeschwindigkeit1 == 'm2':\n",
    "        v1e = Slider_m2\n",
    "        print(f' m2 = {v1e} g')\n",
    "        \n",
    "    elif Endgeschwindigkeit1 == 'v1a':\n",
    "        v1e = Slider_v1a\n",
    "        print(f'v1a = {v1e} m/s')\n",
    "        \n",
    "    elif Endgeschwindigkeit1 == 'v2a':\n",
    "        v1e = Slider_v2a\n",
    "        print(f'v2a = {v1e} m/s')\n",
    "        \n",
    "    else:\n",
    "        #v1e = (Slider_m1 * Slider_v1 + Slider_m2 * Slider_v2) -/ (Slider_m1 + Slider_m2 * v2e)\n",
    "        v1e = (1/3) * Slider_v1a\n",
    "        print(f'v1e = ((m1 * v1a + m2 * v2a) - m2 * v2e )/ (m1) = {v1e} m/s')\n",
    "        \n",
    "    return v1e\n",
    "\n",
    "def fonc_Int1 (Endgeschwindigkeit1, Slider_m1, Slider_m2, Slider_v1a,Slider_v2a):\n",
    "    \n",
    "    if Endgeschwindigkeit1 == 'm1':\n",
    "        v2e = Slider_m1\n",
    "        print(f'm1 = {v2e} g')\n",
    "        \n",
    "    elif Endgeschwindigkeit1 == 'm2':\n",
    "        v2e = Slider_m2\n",
    "        print(f' m2 = {v2e} g')\n",
    "        \n",
    "    elif Endgeschwindigkeit1 == 'v1a':\n",
    "        v2e = Slider_v2a\n",
    "        print(f'v1a = {v2e} m/s')\n",
    "        \n",
    "    elif Endgeschwindigkeit1 == 'v2a':\n",
    "        v2e = Slider_v2a\n",
    "        print(f'v2a = {v2e} m/s')\n",
    "        \n",
    "    else:\n",
    "        #v1e = (Slider_m1 * Slider_v1 + Slider_m2 * Slider_v2) -/ (Slider_m1 + Slider_m2 * v2e)\n",
    "        v2e = (5/3) * Slider_v2a\n",
    "        print(f'v2e = ((m1 * v1a + m2 * v2a) - m1 * v1e )/ (m2) = {v2e} m/s')\n",
    "        \n",
    "    return v2e\n",
    "\n",
    "\n",
    "widgets.interact(fonc_Int, Endgeschwindigkeit1 = Int, \n",
    "                   Slider_m1 = Slider_m1, Slider_m2 = Slider_m2, Slider_v1a = Slider_v1a, Slider_v2a = Slider_v2a)\n",
    "\n",
    "widgets.interact(fonc_Int1, Endgeschwindigkeit1 = Int, \n",
    "                   Slider_m1 = Slider_m1, Slider_m2 = Slider_m2, Slider_v1a = Slider_v1a, Slider_v2a = Slider_v2a)\n",
    "\n",
    "#canvas\n",
    "from IPython.display import Image\n",
    "Image(url='V4-Gif.gif')"
   ]
  },
  {
   "cell_type": "markdown",
   "metadata": {},
   "source": [
    "### In diesem Fall haben wir $m1 = 2*m2$,\n",
    "### $v1a = - v2a$ und $v1e = (1/3)*v1a, v2e = -(5/3)*v2a 0$. "
   ]
  },
  {
   "cell_type": "markdown",
   "metadata": {},
   "source": [
    "## Zentraler unelastischer Stoß"
   ]
  },
  {
   "cell_type": "markdown",
   "metadata": {},
   "source": [
    "<img src=\"inelastischer Stoss.jpg\" style=\"width:500px:height:500px\"/>\n",
    "\n",
    "# $$  Impulserhaltung $$\n",
    " $$\n",
    "            \\begin{split}\n",
    "            m_{1}\\cdot v_{1a} & + m_{2}\\cdot v_{2a} & = m_{1}\\cdot v_{1e} & + m_{2}\\cdot v_{2e}  \\\\\n",
    "            \\end{split}\n",
    "            $$\n",
    "# $$  Energieerhaltung $$\n",
    " $$\n",
    "            \\begin{split}\n",
    "            (1/2)\\cdot m_{1}\\cdot v_{1a}^2 & + (1/2) \\cdot m_{2}\\cdot v_{2a}^2 & = (1/2) \\cdot m_{1}\\cdot v_{1e}^2 & + (1/2) \\cdot m_{2}\\cdot v_{2e}^2  \\\\\n",
    "            \\end{split}\n",
    "            $$\n",
    "            "
   ]
  },
  {
   "cell_type": "markdown",
   "metadata": {},
   "source": [
    "## Knowledge Check(s)"
   ]
  },
  {
   "cell_type": "markdown",
   "metadata": {},
   "source": [
    "Ein Wagen prallt unelastisch mit $7 m/s$ auf zwei gekoppelte, jeweils gleich schwere ruhende Wagen.\n",
    "\n",
    "Wie schnell und in welche Richtung bewegen sich die Wagen nach dem Stoss?\n",
    "Die Anfangsgeschwindigkeit (Variable $v1a$) und Masse (Variable $m1, m2$) können mithilfe der Schieberegler eingestellt werden."
   ]
  },
  {
   "cell_type": "code",
   "execution_count": 7,
   "metadata": {},
   "outputs": [
    {
     "data": {
      "application/vnd.jupyter.widget-view+json": {
       "model_id": "0356de58abfb4ce19efdf8adf4bfcbc6",
       "version_major": 2,
       "version_minor": 0
      },
      "text/plain": [
       "interactive(children=(Dropdown(description='Geschwindigkeit2:', index=3, options=('m1', 'm2', 'v1a', 'v2a', 'v…"
      ]
     },
     "metadata": {},
     "output_type": "display_data"
    },
    {
     "data": {
      "application/vnd.jupyter.widget-view+json": {
       "model_id": "5b7b24e41bd64249858eade6a0757d10",
       "version_major": 2,
       "version_minor": 0
      },
      "text/plain": [
       "interactive(children=(Dropdown(description='Geschwindigkeit2:', index=3, options=('m1', 'm2', 'v1a', 'v2a', 'v…"
      ]
     },
     "metadata": {},
     "output_type": "display_data"
    },
    {
     "data": {
      "text/html": [
       "<img src=\"V5-Gif.gif\"/>"
      ],
      "text/plain": [
       "<IPython.core.display.Image object>"
      ]
     },
     "execution_count": 7,
     "metadata": {},
     "output_type": "execute_result"
    }
   ],
   "source": [
    "\n",
    "Res = widgets.Dropdown(\n",
    "    options=['m1', 'm2', 'v1a', 'v2a','v1e', 'v2e'],\n",
    "    value='m1',\n",
    "    description='Masse1:',\n",
    "    disabled=False,\n",
    ")\n",
    "\n",
    "Tens =widgets.Dropdown(\n",
    "    options=['m1', 'm2', 'v1a', 'v2a','v1e', 'v2e'],\n",
    "    value='m2',\n",
    "    description='Masse2:',\n",
    "    disabled=False,\n",
    ")\n",
    "\n",
    "Int=widgets.Dropdown(\n",
    "    options=['m1', 'm2', 'v1a', 'v2a','v1e', 'v2e'],\n",
    "    value='v1a',\n",
    "    description='Geschwindigkeit1:',\n",
    "    disabled=False,\n",
    ")\n",
    "\n",
    "Int=widgets.Dropdown(\n",
    "    options=['m1', 'm2', 'v1a', 'v2a','v1e', 'v2e'],\n",
    "    value='v2a',\n",
    "    description='Geschwindigkeit2:',\n",
    "    disabled=False,\n",
    ")\n",
    "\n",
    "\n",
    "\n",
    "Slider_m1 = widgets.FloatSlider(min=1.0, max=50000.0, step=0.1, value=100.0, description='m1 in g')\n",
    "Slider_m2 = widgets.FloatSlider(min=1.0, max=50000.0, step=0.1, value=100.0, description='m2 in g')\n",
    "Slider_v1a = widgets.FloatSlider(min=1.0, max=500.0, step=0.1, value=200.0, description='v1a in m/s')\n",
    "Slider_v2a = widgets.FloatSlider(min=1.0, max=500.0, step=0.1, value=400.0, description='v2a in m/s')\n",
    "  #  2. Fall\n",
    "    \n",
    "def fonc_Int (Endgeschwindigkeit1, Slider_m1, Slider_m2, Slider_v1a,Slider_v2a):\n",
    "    \n",
    "    if Endgeschwindigkeit1 == 'm1':\n",
    "        v1e = Slider_m1\n",
    "        print(f'm1 = {v1e} g')\n",
    "        \n",
    "    elif Endgeschwindigkeit1 == 'm2':\n",
    "        v1e = Slider_m2\n",
    "        print(f' m2 = {v1e} g')\n",
    "        \n",
    "    elif Endgeschwindigkeit1 == 'v1a':\n",
    "        v1e = Slider_v1a\n",
    "        print(f'v1a = {v1e} m/s')\n",
    "        \n",
    "    elif Endgeschwindigkeit1 == 'v2a':\n",
    "        v1e = Slider_v2a\n",
    "        print(f'v2a = {v1e} m/s')\n",
    "        \n",
    "    else:\n",
    "        #v1e = (Slider_m1 * Slider_v1 + Slider_m2 * Slider_v2) -/ (Slider_m1 + Slider_m2 * v2e)\n",
    "        v1e = Slider_v1a\n",
    "        print(f'v1e = ((m1 * v1a + m2 * v2a) - m2 * v2e )/ (m1) = {v1e} m/s')\n",
    "        \n",
    "    return v1e\n",
    "\n",
    "def fonc_Int1 (Endgeschwindigkeit1, Slider_m1, Slider_m2, Slider_v1a,Slider_v2a):\n",
    "    \n",
    "    if Endgeschwindigkeit1 == 'm1':\n",
    "        v2e = Slider_m1\n",
    "        print(f'm1 = {v2e} g')\n",
    "        \n",
    "    elif Endgeschwindigkeit1 == 'm2':\n",
    "        v2e = Slider_m2\n",
    "        print(f' m2 = {v2e} g')\n",
    "        \n",
    "    elif Endgeschwindigkeit1 == 'v1a':\n",
    "        v2e = Slider_v2a\n",
    "        print(f'v1a = {v2e} m/s')\n",
    "        \n",
    "    elif Endgeschwindigkeit1 == 'v2a':\n",
    "        v2e = Slider_v2a\n",
    "        print(f'v2a = {v2e} m/s')\n",
    "        \n",
    "    else:\n",
    "        #v1e = (Slider_m1 * Slider_v1 + Slider_m2 * Slider_v2) -/ (Slider_m1 + Slider_m2 * v2e)\n",
    "        v2e = 0.5 * Slider_v2a\n",
    "        print(f'v2e = ((m1 * v1a + m2 * v2a) - m1 * v1e )/ (m2) = {v2e} m/s')\n",
    "        \n",
    "    return v2e\n",
    "\n",
    "\n",
    "widgets.interact(fonc_Int, Endgeschwindigkeit1 = Int, \n",
    "                   Slider_m1 = Slider_m1, Slider_m2 = Slider_m2, Slider_v1a = Slider_v1a, Slider_v2a = Slider_v2a)\n",
    "\n",
    "widgets.interact(fonc_Int1, Endgeschwindigkeit1 = Int, \n",
    "                   Slider_m1 = Slider_m1, Slider_m2 = Slider_m2, Slider_v1a = Slider_v1a, Slider_v2a = Slider_v2a)\n",
    "\n",
    "#canvas\n",
    "from IPython.display import Image\n",
    "Image(url='V5-Gif.gif')"
   ]
  },
  {
   "cell_type": "markdown",
   "metadata": {},
   "source": [
    "### In diesem Fall haben wir $m1 = m2$, \n",
    "### $v1a = 2* v1e = 2 *v2e$ ist die relative Geschwindigkeit und $v2a = 0$. "
   ]
  },
  {
   "cell_type": "markdown",
   "metadata": {},
   "source": [
    "## Knowledge Check(s)\n"
   ]
  },
  {
   "cell_type": "markdown",
   "metadata": {},
   "source": [
    "Zwei Gleitkörper haben die Massen $m1 = 500 g$ und $m2 = 700 g$. Sie bewegen sich reibungsfrei auf einer geraden Bahn und\n",
    "stoßen mit den Geschwindigkeiten $v1a = 8 m/s$ und $v2a = −4 m/s$ zusammen.\n",
    "a) Berechne die Geschwindigkeiten $v1e$ und $v2e$ der beiden Körper für den Fall eines rein elastischen Stoßes.\n",
    "b) Berechne die Geschwindigkeit $v1e = v2e$ der beiden Körper für den Fall eines unelastischen Stoßes.\n"
   ]
  },
  {
   "cell_type": "markdown",
   "metadata": {},
   "source": [
    "# $ Elastischer Stoß $\n",
    "\n",
    "### $ m1 = mit dem Schieberegler zu steuen$ ;\n",
    "### $ m2 = mit dem Schieberegler zu steuen$ ;\n",
    "### $ v1a = mit dem Schieberegler zu steuen$ ;\n",
    "### $ v2a = mit dem Schieberegler zu steuen$ ;\n",
    "\n",
    "### $ Impulserhaltung : m1*v1a + m2*v2a = m1*v1e + m2*v2e$ \n",
    "### $ Energieerhaltung : 1/2*m1*v1a^2 + 1/2*m2*v2a^2 = 1/2*m1*v1e^2 + 1/2*m2*v2e^2$\n",
    "### $ Das System lösen$\n",
    "### $ v1e = ?$ \n",
    "### $ v2e = ?$\n",
    "\n",
    "# $ Inelastischer Stoß $\n",
    "\n",
    "### $ m1 = mit dem Schieberegler zu steuen$ ;\n",
    "### $ m2 = mit dem Schieberegler zu steuen$ ;\n",
    "### $ v1a = mit dem Schieberegler zu steuen$ ;\n",
    "### $ v2a = mit dem Schieberegler zu steuen$ ;\n",
    "\n",
    "### $Hier genügt die Impulserhaltung $\n",
    "### $ Impulserhaltung : m1*v1a + m2*v2a = m1*v1e + m2*v2e$ \n",
    "### $ v1e = v2e $\n",
    "### $ -> m1*v1a + m2*v2a = (m1 + m2)*v1e$\n",
    "### $ v1e = (m1*v1a + m2*v2a) / (m1 + m2) $"
   ]
  },
  {
   "cell_type": "code",
   "execution_count": 8,
   "metadata": {},
   "outputs": [
    {
     "data": {
      "application/vnd.jupyter.widget-view+json": {
       "model_id": "bbd67466e9c8444b949460e05701a135",
       "version_major": 2,
       "version_minor": 0
      },
      "text/plain": [
       "interactive(children=(Dropdown(description='Geschwindigkeit2:', index=3, options=('m1', 'm2', 'v1a', 'v2a', 'v…"
      ]
     },
     "metadata": {},
     "output_type": "display_data"
    },
    {
     "data": {
      "application/vnd.jupyter.widget-view+json": {
       "model_id": "65c301f653634162962ed8e170d9d962",
       "version_major": 2,
       "version_minor": 0
      },
      "text/plain": [
       "interactive(children=(Dropdown(description='Geschwindigkeit2:', index=3, options=('m1', 'm2', 'v1a', 'v2a', 'v…"
      ]
     },
     "metadata": {},
     "output_type": "display_data"
    },
    {
     "data": {
      "text/plain": [
       "<function __main__.fonc_Int(Endgeschwindigkeit1, Slider_m1, Slider_m2, Slider_v1a, Slider_v2a)>"
      ]
     },
     "execution_count": 8,
     "metadata": {},
     "output_type": "execute_result"
    }
   ],
   "source": [
    "\n",
    "Res = widgets.Dropdown(\n",
    "    options=['m1', 'm2', 'v1a', 'v2a','v1e', 'v2e'],\n",
    "    value='m1',\n",
    "    description='Masse1:',\n",
    "    disabled=False,\n",
    ")\n",
    "\n",
    "Tens =widgets.Dropdown(\n",
    "    options=['m1', 'm2', 'v1a', 'v2a','v1e', 'v2e'],\n",
    "    value='m2',\n",
    "    description='Masse2:',\n",
    "    disabled=False,\n",
    ")\n",
    "\n",
    "Int=widgets.Dropdown(\n",
    "    options=['m1', 'm2', 'v1a', 'v2a','v1e', 'v2e'],\n",
    "    value='v1a',\n",
    "    description='Geschwindigkeit1:',\n",
    "    disabled=False,\n",
    ")\n",
    "\n",
    "Int=widgets.Dropdown(\n",
    "    options=['m1', 'm2', 'v1a', 'v2a','v1e', 'v2e'],\n",
    "    value='v2a',\n",
    "    description='Geschwindigkeit2:',\n",
    "    disabled=False,\n",
    ")\n",
    "\n",
    "\n",
    "\n",
    "Slider_m1 = widgets.FloatSlider(min=1.0, max=500.0, step=1, value=100.0, description='m1 in g')\n",
    "Slider_m2 = widgets.FloatSlider(min=1.0, max=500.0, step=1, value=300.0, description='m2 in g')\n",
    "Slider_v1a = widgets.FloatSlider(min=-50.0, max=50.0, step=1, value=4.0, description='v1a in m/s')\n",
    "Slider_v2a = widgets.FloatSlider(min=-50.0, max=50.0, step=1, value=-2.0, description='v2a in m/s')\n",
    " \n",
    "    \n",
    "\n",
    "def fonc_Int1 (Endgeschwindigkeit1, Slider_m1, Slider_m2, Slider_v1a,Slider_v2a):\n",
    "    \n",
    "    if Endgeschwindigkeit1 == 'm1':\n",
    "        sol = Slider_m1\n",
    "        print(f'm1 = {sol} g')\n",
    "        \n",
    "    elif Endgeschwindigkeit1 == 'm2':\n",
    "        sol = Slider_m2\n",
    "        print(f' m2 = {sol} g')\n",
    "        \n",
    "    elif Endgeschwindigkeit1 == 'v1a':\n",
    "        sol = Slider_v2a\n",
    "        print(f'v1a = {sol} m/s')\n",
    "        \n",
    "    elif Endgeschwindigkeit1 == 'v2a':\n",
    "        sol = Slider_v2a\n",
    "        print(f'v2a = {sol} m/s')\n",
    "        \n",
    "    else:\n",
    "        v1e, v2e = symbols('v1e v2e')\n",
    "        eq1 = Eq(Slider_m1*Slider_v1a + Slider_m2*Slider_v2a, Slider_m1*v1e + Slider_m2*v2e)\n",
    "        eq2 = Eq((1/2)*Slider_m1*Slider_v1a**2 + (1/2)*Slider_m2*Slider_v2a**2, (1/2)*Slider_m1*v1e**2 + (1/2)*Slider_m2*v2e**2)\n",
    "        sol = solve((eq1,eq2), (v1e, v2e), dict=True)\n",
    "        print(f'Elastischer Stoß: eq1 => m1*v1a + m2*v2a = m1*v1e + m2*v2e ; eq2 => (1/2)*m1*v1a**2 + (1/2)*m2*v2a**2 = (1/2)*m1*v1e**2 + (1/2)*m2*v2e**2 = {sol} m/s')\n",
    "        \n",
    "   # return sol\n",
    "\n",
    "def fonc_Int (Endgeschwindigkeit1, Slider_m1, Slider_m2, Slider_v1a,Slider_v2a):\n",
    "    \n",
    "    if Endgeschwindigkeit1 == 'm1':\n",
    "        sol = Slider_m1\n",
    "        print(f'm1 = {sol} g')\n",
    "        \n",
    "    elif Endgeschwindigkeit1 == 'm2':\n",
    "        sol = Slider_m2\n",
    "        print(f' m2 = {sol} g')\n",
    "        \n",
    "    elif Endgeschwindigkeit1 == 'v1a':\n",
    "        sol = Slider_v2a\n",
    "        print(f'v1a = {sol} m/s')\n",
    "        \n",
    "    elif Endgeschwindigkeit1 == 'v2a':\n",
    "        sol = Slider_v2a\n",
    "        print(f'v2a = {sol} m/s')\n",
    "        \n",
    "    else:\n",
    "        v1e = symbols('v1e')\n",
    "        eq1 = Eq(Slider_m1*Slider_v1a + Slider_m2*Slider_v2a, (Slider_m1 + Slider_m2)*v1e)\n",
    "        #eq2 = Eq((1/2)*Slider_m1*Slider_v1a**2 + (1/2)*Slider_m2*Slider_v2a**2, (1/2)*Slider_m1*v1e**2 + (1/2)*Slider_m2*v2e**2)\n",
    "        sol = solve((eq1), (v1e), dict=True)\n",
    "        print(f'inelastischer Stoß: eq1 => m1*v1a + m2*v2a = m1*v1e + m2*v2e ; eq2 => (1/2)*m1*v1a**2 + (1/2)*m2*v2a**2 = (1/2)*m1*v1e**2 + (1/2)*m2*v2e**2 = {sol} m/s')\n",
    "        \n",
    "   # return sol\n",
    "\n",
    "widgets.interact(fonc_Int1, Endgeschwindigkeit1 = Int, \n",
    "                   Slider_m1 = Slider_m1, Slider_m2 = Slider_m2, Slider_v1a = Slider_v1a, Slider_v2a = Slider_v2a)\n",
    "\n",
    "widgets.interact(fonc_Int, Endgeschwindigkeit1 = Int, \n",
    "                   Slider_m1 = Slider_m1, Slider_m2 = Slider_m2, Slider_v1a = Slider_v1a, Slider_v2a = Slider_v2a)"
   ]
  },
  {
   "cell_type": "markdown",
   "metadata": {},
   "source": [
    "Oktober 2020 (CC BY-SA 4.0)"
   ]
  }
 ],
 "metadata": {
  "kernelspec": {
   "display_name": "Python 3",
   "language": "python",
   "name": "python3"
  },
  "language_info": {
   "codemirror_mode": {
    "name": "ipython",
    "version": 3
   },
   "file_extension": ".py",
   "mimetype": "text/x-python",
   "name": "python",
   "nbconvert_exporter": "python",
   "pygments_lexer": "ipython3",
   "version": "3.8.3"
  }
 },
 "nbformat": 4,
 "nbformat_minor": 4
}
