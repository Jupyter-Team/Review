{
 "cells": [
  {
   "cell_type": "markdown",
   "metadata": {},
   "source": [
    "# Smarte und interaktive Kurzskripte (smartiS) \n",
    "\n",
    " \n",
    "[P. Kersten](https://www.hshl.de/personen/prof-dr-ing-peter-kersten), [J. Jeschonowski](https://www.xing.com/profile/Jule_Jeschonowski/cv), [L.P. Kamegne-Kamdem](https://www.linkedin.com/in/leger-paco-kamegne-kamdem-07ba39184/), [N.B. Neathery](https://www.linkedin.com/in/noel-neathery-6371561a6/) und D.M. Weis\n",
    "\n",
    "[Hochschule Hamm-Lippstadt](https://www.hshl.de), Marker Allee 76–78, D-59063 Hamm"
   ]
  },
  {
   "cell_type": "markdown",
   "metadata": {},
   "source": [
    "# Winkel mit Skalarprodukt bestimmen\n",
    "\n",
    "## Inhalt\n",
    "- Skalarprodukt\n",
    "- Winkel zwischen zwei Vektoren"
   ]
  },
  {
   "cell_type": "code",
   "execution_count": 17,
   "metadata": {},
   "outputs": [],
   "source": [
    "%matplotlib inline\n",
    "import numpy as np\n",
    "import sympy as sp\n",
    "import math as m\n",
    "import matplotlib.pyplot as plt\n",
    "import ipywidgets as widgets\n",
    "\n",
    "from ipywidgets import interact\n",
    "from sympy import symbols\n",
    "from sympy.plotting import plot3d\n",
    "from matplotlib.pyplot import figure\n",
    "from IPython.display import Markdown, clear_output, display, HTML"
   ]
  },
  {
   "cell_type": "code",
   "execution_count": 18,
   "metadata": {},
   "outputs": [
    {
     "data": {
      "text/html": [
       "<script>$(\"div.input\").hide()</script>"
      ],
      "text/plain": [
       "<IPython.core.display.HTML object>"
      ]
     },
     "metadata": {},
     "output_type": "display_data"
    },
    {
     "data": {
      "application/vnd.jupyter.widget-view+json": {
       "model_id": "00a6c6d74b924b1f96130e6b43f7da5c",
       "version_major": 2,
       "version_minor": 0
      },
      "text/plain": [
       "ToggleButton(value=False, description='Quellcode anzeigen')"
      ]
     },
     "metadata": {},
     "output_type": "display_data"
    },
    {
     "data": {
      "text/html": [
       "<script>$(\"div.input\").show()</script>"
      ],
      "text/plain": [
       "<IPython.core.display.HTML object>"
      ]
     },
     "metadata": {},
     "output_type": "display_data"
    },
    {
     "data": {
      "text/html": [
       "<script>$(\"div.input\").hide()</script>"
      ],
      "text/plain": [
       "<IPython.core.display.HTML object>"
      ]
     },
     "metadata": {},
     "output_type": "display_data"
    },
    {
     "data": {
      "text/html": [
       "<script>$(\"div.input\").show()</script>"
      ],
      "text/plain": [
       "<IPython.core.display.HTML object>"
      ]
     },
     "metadata": {},
     "output_type": "display_data"
    },
    {
     "data": {
      "text/html": [
       "<script>$(\"div.input\").hide()</script>"
      ],
      "text/plain": [
       "<IPython.core.display.HTML object>"
      ]
     },
     "metadata": {},
     "output_type": "display_data"
    },
    {
     "data": {
      "text/html": [
       "<script>$(\"div.input\").show()</script>"
      ],
      "text/plain": [
       "<IPython.core.display.HTML object>"
      ]
     },
     "metadata": {},
     "output_type": "display_data"
    }
   ],
   "source": [
    "javascript_funktion = {False: \"hide()\", True: \"show()\"}\n",
    "schaltflaeche  = {False: \"Quellcode anzeigen\", True: \"Quellcode verbergen\"}\n",
    "\n",
    "\n",
    "def quellcode_umschalten(state):\n",
    "\n",
    "    output_string = \"<script>$(\\\"div.input\\\").{}</script>\"\n",
    "    output_args   = (javascript_funktion[state],)\n",
    "    output        = output_string.format(*output_args)\n",
    "    display(HTML(output))\n",
    "\n",
    "\n",
    "def schaltflaeche_aktion(value):\n",
    "\n",
    "    state = value.new\n",
    "    quellcode_umschalten(state)\n",
    "    value.owner.description = schaltflaeche[state]\n",
    "\n",
    "\n",
    "state = False\n",
    "quellcode_umschalten(state)\n",
    "\n",
    "button = widgets.ToggleButton(state, description = schaltflaeche[state])\n",
    "button.observe(schaltflaeche_aktion, \"value\")\n",
    "\n",
    "display(button)"
   ]
  },
  {
   "cell_type": "markdown",
   "metadata": {},
   "source": [
    "## Skalarprodukt\n",
    "\n",
    "Wenn zwei Vektoren miteinander multipliziert werden, ergibt sich ein Skalar (so werden in der Vektorrechnung reelle Zahlen genannt). Um ein Skalar zu berechnen werden die einzelnen Werte der Vektoren miteinander multipliziert. Wir schauen uns das an folgendem Beispiel an:\n",
    "\n",
    "<p><center>$\\vec{v1}=\\begin{pmatrix}a \\\\\\ b \\\\\\ c \\end{pmatrix}$</center><br>\n",
    "\n",
    "<center>$\\vec{v2}=\\begin{pmatrix}x \\\\\\ y \\\\\\ z \\end{pmatrix}$</center></p>\n",
    "\n",
    "Für die Berechnung des Skalarprodukt gilt folgendes: $\\vec{v1}\\bullet\\vec{v2}=a*x+b*y+c*z$\n",
    "\n",
    "Der dicke Punkt ist dabei nicht mit einem Multiplikationszeichen zu verwechseln. Außerdem gelten die bekannten Rechengesetze.\n",
    "\n",
    "Das Ergebnis dieses Skalarprodukts kann euch bereits eine Auskunft über den Winkel zwischen den beiden Vektoren geben. Ein Skalarprodukt von $0$ bedeutet das die Vektoren senkrecht aufeinander ( $90°$ ) und damit orthogonal sind. Ein Ergebnis kleiner $0$ hat einen stumpfen und ein Ergebnis größer $0$ einen spitzen Winkel zur Folge.\n",
    "\n",
    "Wenn ihr mithilfe dieses smartis ein Skalarprodukt ausrechnen wollt, dann klickt oben auf den Button \"Quellcode anzeigen\". Nun solltet ihr unter diesem Text ein paar Codezeilen finden, in denen ihr die grünen Werte der Vektoren ändern könnt. Mit klicken auf \"Run\" bekommt ihr unter den Codezeilen eure eingegebenen Vektoren sowie das dazugehörige Skalarprodukt angezeigt."
   ]
  },
  {
   "cell_type": "code",
   "execution_count": 34,
   "metadata": {},
   "outputs": [
    {
     "name": "stdout",
     "output_type": "stream",
     "text": [
      "Vektor 1: [3 4 1]\n",
      "\n",
      "Vektor 2: [ 0 -2 -3]\n",
      "\n",
      "Skalarprodukt:  -11\n"
     ]
    }
   ],
   "source": [
    "vektor1=np.array([3,4,1]) #sollte dein Vektor mehr als 3 Stellen haben, dann füge einfach weitere Zahlen mit Komma aber ohne Leerzeichen hinzu\n",
    "print(\"Vektor 1:\",vektor1)\n",
    "print()\n",
    "\n",
    "vektor2=np.array([0,-2,-3]) #sollte dein Vektor mehr als 3 Stellen haben, dann füge einfach weitere Zahlen mit Komma aber ohne Leerzeichen hinzu\n",
    "print(\"Vektor 2:\",vektor2)\n",
    "print()\n",
    "\n",
    "print(\"Skalarprodukt: \",np.dot(vektor1,vektor2))   "
   ]
  },
  {
   "cell_type": "markdown",
   "metadata": {},
   "source": [
    "## Winkel zwischen zwei Vektoren\n",
    "\n",
    "Natürlich gibt es für die genaue Berechnung des Winkels eine Formel, die so aussieht:\n",
    "\n",
    "<p><center>$\\vec{a}\\bullet\\vec{b}=|\\vec{a}|*|\\vec{b}|*cos\\alpha$.</center></p>\n",
    "\n",
    "Das Skalarprodukt kennen wir bereits. Neben dem Skalarprodukt wird für die Winkelberechnung außerdem die Länge der Vektoren benötigt. Die Länge von Vektoren wird über ihren Betrag ausgerechnet $|\\vec{v}|$.\n",
    "\n",
    "Das bedeutet für den folgenden Vektor\n",
    "\n",
    "<center>$\\vec{v1}=\\begin{pmatrix}a \\\\\\ b \\\\\\ c \\end{pmatrix}$</center>\n",
    "\n",
    "\n",
    "\n",
    "eine Berechnung der Länge mit\n",
    "\n",
    "<center>$|\\vec{v}|=\\sqrt[2]{a^2+b^2+c^2}$ .</center>\n",
    "\n",
    "\n",
    "Nun fehlt uns nur noch der \"$cos\\alpha$\" - Teil der Formel. Wir stellen die Formel also um, damit wir $cos\\alpha$ ausrechnen können. Das sieht dann so aus:\n",
    "\n",
    "<p><center>$\\large{cos\\alpha=\\frac{\\vec{a}\\bullet\\vec{b}}{|\\vec{a}|*|\\vec{b}|}}$</center></p>\n",
    "\n",
    "Probiert es selber aus! (Hierfür müsst ihr wieder den \"Quellcode anzeigen\" und im Code eure Vektoren ändern.)"
   ]
  },
  {
   "cell_type": "code",
   "execution_count": 51,
   "metadata": {},
   "outputs": [
    {
     "name": "stdout",
     "output_type": "stream",
     "text": [
      "Vektor 1: [-3  1  1]\n",
      "\n",
      "Vektor 2: [1 1 1]\n",
      "\n",
      "Skalarprodukt:  -1\n",
      "\n",
      "Winkel in Grad: 100.02\n"
     ]
    }
   ],
   "source": [
    "vektor1=np.array([-3,1,1]) #sollte dein Vektor mehr als 3 Stellen haben, dann füge einfach weitere Zahlen mit Komma aber ohne Leerzeichen hinzu\n",
    "print(\"Vektor 1:\",vektor1)\n",
    "print()\n",
    "\n",
    "vektor2=np.array([1,1,1]) #sollte dein Vektor mehr als 3 Stellen haben, dann füge einfach weitere Zahlen mit Komma aber ohne Leerzeichen hinzu\n",
    "print(\"Vektor 2:\",vektor2)\n",
    "print()\n",
    "\n",
    "print(\"Skalarprodukt: \",np.dot(vektor1,vektor2))\n",
    "print()\n",
    "\n",
    "np.dot(vektor1,vektor2)\n",
    "skalarprodukt=np.dot(vektor1,vektor2)\n",
    "vektor1betrag=np.sqrt((vektor1*vektor1).sum())\n",
    "vektor2betrag=np.sqrt((vektor2*vektor2).sum())\n",
    "\n",
    "cosalpha=skalarprodukt/vektor1betrag/vektor2betrag #Formel Winkelberechnung\n",
    "alpha=np.arccos(cosalpha) #Bogenmaß\n",
    "winkel=360*alpha/2/np.pi #Gradmaß\n",
    "\n",
    "print(\"Winkel in Grad:\",round(winkel,2))"
   ]
  },
  {
   "cell_type": "markdown",
   "metadata": {},
   "source": [
    "# Wie fandet ihr dieses smarti?\n",
    "\n",
    "[Lasst uns gerne Feedback da!](https://pingo.coactum.de/460203) Viel Spaß wünscht das smartiS Team :-)"
   ]
  },
  {
   "cell_type": "markdown",
   "metadata": {},
   "source": [
    "November 2020 (CC BY-SA 4.0)"
   ]
  },
  {
   "cell_type": "code",
   "execution_count": null,
   "metadata": {},
   "outputs": [],
   "source": []
  }
 ],
 "metadata": {
  "kernelspec": {
   "display_name": "Python 3",
   "language": "python",
   "name": "python3"
  },
  "language_info": {
   "codemirror_mode": {
    "name": "ipython",
    "version": 3
   },
   "file_extension": ".py",
   "mimetype": "text/x-python",
   "name": "python",
   "nbconvert_exporter": "python",
   "pygments_lexer": "ipython3",
   "version": "3.8.3"
  }
 },
 "nbformat": 4,
 "nbformat_minor": 4
}
