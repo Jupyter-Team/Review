{
 "cells": [
  {
   "cell_type": "markdown",
   "metadata": {},
   "source": [
    "# Smarte und interaktive Kurzskripte (smartiS)\n",
    "___\n",
    "## 1. Einheiten"
   ]
  },
  {
   "cell_type": "code",
   "execution_count": 1,
   "metadata": {},
   "outputs": [
    {
     "data": {
      "text/html": [
       "<script>$(\"div.input\").hide()</script>"
      ],
      "text/plain": [
       "<IPython.core.display.HTML object>"
      ]
     },
     "metadata": {},
     "output_type": "display_data"
    },
    {
     "data": {
      "application/vnd.jupyter.widget-view+json": {
       "model_id": "14245c9339e542eb8e264744b2d52453",
       "version_major": 2,
       "version_minor": 0
      },
      "text/plain": [
       "ToggleButton(value=False, description='Quellcode anzeigen')"
      ]
     },
     "metadata": {},
     "output_type": "display_data"
    }
   ],
   "source": [
    "#____import____\n",
    "\n",
    "%matplotlib inline\n",
    "\n",
    "import numpy as np\n",
    "import ipywidgets as widgets\n",
    "\n",
    "from ipywidgets import interact\n",
    "from IPython.display import Markdown, clear_output, display, HTML\n",
    "\n",
    "javascript_functions = {False: \"hide()\", True: \"show()\"}\n",
    "button_descriptions  = {False: \"Code anzeigen\", True: \"Code verbergen\"}\n",
    "\n",
    "\n",
    "javascript_funktion = {False: \"hide()\", True: \"show()\"}\n",
    "schaltflaeche  = {False: \"Quellcode anzeigen\", True: \"Quellcode verbergen\"}\n",
    "\n",
    "\n",
    "def quellcode_umschalten(state):\n",
    "\n",
    "    output_string = \"<script>$(\\\"div.input\\\").{}</script>\"\n",
    "    output_args   = (javascript_funktion[state],)\n",
    "    output        = output_string.format(*output_args)\n",
    "    display(HTML(output))\n",
    "\n",
    "\n",
    "def schaltflaeche_aktion(value):\n",
    "\n",
    "    state = value.new\n",
    "    quellcode_umschalten(state)\n",
    "    value.owner.description = schaltflaeche[state]\n",
    "\n",
    "\n",
    "state = False\n",
    "quellcode_umschalten(state)\n",
    "\n",
    "button = widgets.ToggleButton(state, description = schaltflaeche[state])\n",
    "button.observe(schaltflaeche_aktion, \"value\")\n",
    "\n",
    "display(button)"
   ]
  },
  {
   "cell_type": "markdown",
   "metadata": {},
   "source": [
    "### Beispiel: Einheitentransformieren\n",
    "Jede Einheit lässt sich in einer Zusammenstellung aus Teilen der sieben SI Einheiten Kilogramm, Meter, Sekunde, Amper, Candela, Kelvin und Mol umschreiben. So lässt sich beispielsweise $N$ in $\\frac{kg*m}{s^2}$ darstellen. Dies folgt aus der Formel $F=m*a$.<br>\n",
    "Desweiteren können große Zahlen in Zehner Potenzen umgeschrieben werden. Jede dieser Zehnerpotenzen hat einen Namen und gibt die Vorsilbe für die Einheit. Z.B. $1500 g=1,5*10^{3} g=1,5 kg$.<br>\n",
    "<table style=\"width:50%\">\n",
    "<tr>\n",
    "    <th>Vorsilbe</th>\n",
    "    <th>Kürzel</th>\n",
    "    <th>Potenz</th>\n",
    "</tr> \n",
    "<tr>\n",
    "    <th>Yotta</th>\n",
    "    <th>Y</th>\n",
    "    <th>$10^{24}$</th>\n",
    "</tr>\n",
    "<tr>\n",
    "    <th>Zetta</th>\n",
    "    <th>Z</th>\n",
    "    <th>$10^{21}$</th>\n",
    "</tr>\n",
    "<tr>\n",
    "    <th>Exa</th>\n",
    "    <th>E</th>\n",
    "    <th>$10^{18}$</th>\n",
    "</tr>\n",
    "<tr>\n",
    "    <th>Peta</th>\n",
    "    <th>P</th>\n",
    "    <th>$10^{15}$</th>\n",
    "</tr>\n",
    "<tr>\n",
    "    <th>Tera</th>\n",
    "    <th>T</th>\n",
    "    <th>$10^{12}$</th>\n",
    "</tr>\n",
    "<tr>\n",
    "    <th>Giga</th>\n",
    "    <th>G</th>\n",
    "    <th>$10^{9}$</th>\n",
    "</tr>\n",
    "<tr>\n",
    "    <th>Mega</th>\n",
    "    <th>M</th>\n",
    "    <th>$10^{6}$</th>\n",
    "</tr>\n",
    "<tr>\n",
    "    <th>Kilo</th>\n",
    "    <th>k</th>\n",
    "    <th>$10^{24}$</th>\n",
    "</tr>\n",
    "<tr>\n",
    "    <th>Hecto</th>\n",
    "    <th>h</th>\n",
    "    <th>$10^{2}$</th>\n",
    "</tr>\n",
    "<tr>\n",
    "    <th>Standard</th>\n",
    "    <th></th>\n",
    "    <th>$10^{0}$</th>\n",
    "</tr>\n",
    "<tr>\n",
    "    <th>dezi</th>\n",
    "    <th>d</th>\n",
    "    <th>$10^{-1}$</th>\n",
    "</tr>\n",
    "<tr>\n",
    "    <th>centi</th>\n",
    "    <th>c</th>\n",
    "    <th>$10^{-2}$</th>\n",
    "</tr>\n",
    "<tr>\n",
    "    <th>milli</th>\n",
    "    <th>m</th>\n",
    "    <th>$10^{-3}$</th>\n",
    "</tr>\n",
    "<tr>\n",
    "    <th>mikro</th>\n",
    "    <th>$\\mu$</th>\n",
    "    <th>$10^{-6}$</th>\n",
    "</tr>\n",
    "<tr>\n",
    "    <th>nano</th>\n",
    "    <th>n</th>\n",
    "    <th>$10^{-9}$</th>\n",
    "</tr>\n",
    "<tr>\n",
    "    <th>piko</th>\n",
    "    <th>p</th>\n",
    "    <th>$10^{-12}$</th>\n",
    "</tr>\n",
    "<tr>\n",
    "    <th>femto</th>\n",
    "    <th>f</th>\n",
    "    <th>$10^{-15}$</th>\n",
    "</tr>\n",
    "<tr>\n",
    "    <th>atto</th>\n",
    "    <th>a</th>\n",
    "    <th>$10^{-18}$</th>\n",
    "</tr>\n",
    "<tr>\n",
    "    <th>zepto</th>\n",
    "    <th>z</th>\n",
    "    <th>$10^{-21}$</th>\n",
    "</tr>\n",
    "<tr>\n",
    "    <th>yocto</th>\n",
    "    <th>y</th>\n",
    "    <th>$10^{-24}$</th>\n",
    "</tr>"
   ]
  },
  {
   "cell_type": "markdown",
   "metadata": {},
   "source": [
    "## Knowledge Check(s):\n",
    "<ul>\n",
    "    <li>Überlege dir anhand der physikalischen Formeln, wie weit man die jeweiligen Einheiten herunterbrechen kann. Kontrolliere anschließend deine Ergebnisse mit Hilfe der Buttons</li>\n",
    "    <li>Bestimme die Potenzen und das zugehörige Kürzel dazu! Überprüfe dich mit der Software!</li>\n",
    "    <ol>\n",
    "        <li>1000000 $N$</li>\n",
    "        <li>1000 $\\frac{N}{C}$</li>\n",
    "        <li>39,139 $\\frac{kg}{s²*m}$</li>\n",
    "        <li>-0,000985 $\\frac{kg*m}{s}$</li>\n",
    "        <li>20000000,45 $\\frac{kg*m²}{A*s³}$</li>\n",
    "        <li>-3004985 $\\frac{kg*m²}{s³}$</li>\n",
    "        <li>0,000000000005 $\\frac{A*s}{V}$</li>\n",
    "        <li>Versuchen Sie sich selbst und kontrollieren Sie sich selbst, indem Sie die Zahl hier überprüfen</li>\n",
    "    </ol>\n",
    "</ul>"
   ]
  },
  {
   "cell_type": "code",
   "execution_count": 2,
   "metadata": {},
   "outputs": [
    {
     "data": {
      "application/vnd.jupyter.widget-view+json": {
       "model_id": "689428e9b8f5441a984136536aed69ac",
       "version_major": 2,
       "version_minor": 0
      },
      "text/plain": [
       "Button(description='[F]=Nm', style=ButtonStyle())"
      ]
     },
     "metadata": {},
     "output_type": "display_data"
    },
    {
     "data": {
      "application/vnd.jupyter.widget-view+json": {
       "model_id": "53734a283f2a49519832f2f1c52c7472",
       "version_major": 2,
       "version_minor": 0
      },
      "text/plain": [
       "Output()"
      ]
     },
     "metadata": {},
     "output_type": "display_data"
    },
    {
     "data": {
      "application/vnd.jupyter.widget-view+json": {
       "model_id": "20f1794f4c074bd9aace0de85237d35f",
       "version_major": 2,
       "version_minor": 0
      },
      "text/plain": [
       "Button(description='[P]=W', style=ButtonStyle())"
      ]
     },
     "metadata": {},
     "output_type": "display_data"
    },
    {
     "data": {
      "application/vnd.jupyter.widget-view+json": {
       "model_id": "e6fc4802199b4cbf859812ebe7c30df1",
       "version_major": 2,
       "version_minor": 0
      },
      "text/plain": [
       "Output()"
      ]
     },
     "metadata": {},
     "output_type": "display_data"
    },
    {
     "data": {
      "application/vnd.jupyter.widget-view+json": {
       "model_id": "65e859c6c90a42038673e3511426d5c6",
       "version_major": 2,
       "version_minor": 0
      },
      "text/plain": [
       "Button(description='[W]=J', style=ButtonStyle())"
      ]
     },
     "metadata": {},
     "output_type": "display_data"
    },
    {
     "data": {
      "application/vnd.jupyter.widget-view+json": {
       "model_id": "35857879f822437e8b7bbe2ca39a44ec",
       "version_major": 2,
       "version_minor": 0
      },
      "text/plain": [
       "Output()"
      ]
     },
     "metadata": {},
     "output_type": "display_data"
    },
    {
     "data": {
      "application/vnd.jupyter.widget-view+json": {
       "model_id": "4ea10f3ea3aa4a26a752ed336fa2f9dd",
       "version_major": 2,
       "version_minor": 0
      },
      "text/plain": [
       "Button(description='[R]=Ω', style=ButtonStyle())"
      ]
     },
     "metadata": {},
     "output_type": "display_data"
    },
    {
     "data": {
      "application/vnd.jupyter.widget-view+json": {
       "model_id": "7d6b68e63119417bb4796ed16da28aac",
       "version_major": 2,
       "version_minor": 0
      },
      "text/plain": [
       "Output()"
      ]
     },
     "metadata": {},
     "output_type": "display_data"
    },
    {
     "data": {
      "application/vnd.jupyter.widget-view+json": {
       "model_id": "8f99cf432dec4c2fb9b234af66acc425",
       "version_major": 2,
       "version_minor": 0
      },
      "text/plain": [
       "Button(description='[U]=V', style=ButtonStyle())"
      ]
     },
     "metadata": {},
     "output_type": "display_data"
    },
    {
     "data": {
      "application/vnd.jupyter.widget-view+json": {
       "model_id": "a78e5aff5b59485eb30b071e5322ab60",
       "version_major": 2,
       "version_minor": 0
      },
      "text/plain": [
       "Output()"
      ]
     },
     "metadata": {},
     "output_type": "display_data"
    },
    {
     "data": {
      "application/vnd.jupyter.widget-view+json": {
       "model_id": "e8cde7c42aa9423c9428e8fb1d64a78b",
       "version_major": 2,
       "version_minor": 0
      },
      "text/plain": [
       "Button(description='[Q]=C', style=ButtonStyle())"
      ]
     },
     "metadata": {},
     "output_type": "display_data"
    },
    {
     "data": {
      "application/vnd.jupyter.widget-view+json": {
       "model_id": "ed89095f45844606bb7b2fdff1f9b954",
       "version_major": 2,
       "version_minor": 0
      },
      "text/plain": [
       "Output()"
      ]
     },
     "metadata": {},
     "output_type": "display_data"
    },
    {
     "data": {
      "application/vnd.jupyter.widget-view+json": {
       "model_id": "ee4c67a04eb547f2ac16022301ebfce7",
       "version_major": 2,
       "version_minor": 0
      },
      "text/plain": [
       "Button(description='[V]=l', style=ButtonStyle())"
      ]
     },
     "metadata": {},
     "output_type": "display_data"
    },
    {
     "data": {
      "application/vnd.jupyter.widget-view+json": {
       "model_id": "a62d7869f66f4651950fb41b4541f262",
       "version_major": 2,
       "version_minor": 0
      },
      "text/plain": [
       "Output()"
      ]
     },
     "metadata": {},
     "output_type": "display_data"
    },
    {
     "data": {
      "application/vnd.jupyter.widget-view+json": {
       "model_id": "c84a04b4f97d4ed0bbdc3ce01a7d8626",
       "version_major": 2,
       "version_minor": 0
      },
      "text/plain": [
       "Button(description='[ρ]=Pa', style=ButtonStyle())"
      ]
     },
     "metadata": {},
     "output_type": "display_data"
    },
    {
     "data": {
      "application/vnd.jupyter.widget-view+json": {
       "model_id": "3f048f1f0a824e77b46f94d51cffa2fa",
       "version_major": 2,
       "version_minor": 0
      },
      "text/plain": [
       "Output()"
      ]
     },
     "metadata": {},
     "output_type": "display_data"
    },
    {
     "data": {
      "application/vnd.jupyter.widget-view+json": {
       "model_id": "88da18dbdcbb416f815f53820a817224",
       "version_major": 2,
       "version_minor": 0
      },
      "text/plain": [
       "Button(description='[f]=Hz', style=ButtonStyle())"
      ]
     },
     "metadata": {},
     "output_type": "display_data"
    },
    {
     "data": {
      "application/vnd.jupyter.widget-view+json": {
       "model_id": "5b540462e0034c349e379b64369def73",
       "version_major": 2,
       "version_minor": 0
      },
      "text/plain": [
       "Output()"
      ]
     },
     "metadata": {},
     "output_type": "display_data"
    },
    {
     "data": {
      "application/vnd.jupyter.widget-view+json": {
       "model_id": "9a7b82d369e64b0d87dade5af51b4182",
       "version_major": 2,
       "version_minor": 0
      },
      "text/plain": [
       "Button(description='[p]=Ns', style=ButtonStyle())"
      ]
     },
     "metadata": {},
     "output_type": "display_data"
    },
    {
     "data": {
      "application/vnd.jupyter.widget-view+json": {
       "model_id": "07c7139907af421c86cf127109287505",
       "version_major": 2,
       "version_minor": 0
      },
      "text/plain": [
       "Output()"
      ]
     },
     "metadata": {},
     "output_type": "display_data"
    },
    {
     "data": {
      "application/vnd.jupyter.widget-view+json": {
       "model_id": "2b31878fbc384fd7a7df0f6a5c7ae96c",
       "version_major": 2,
       "version_minor": 0
      },
      "text/plain": [
       "Button(description='[E]=V/m', style=ButtonStyle())"
      ]
     },
     "metadata": {},
     "output_type": "display_data"
    },
    {
     "data": {
      "application/vnd.jupyter.widget-view+json": {
       "model_id": "bdd1e6e47cae4ee28551d53d12e06a80",
       "version_major": 2,
       "version_minor": 0
      },
      "text/plain": [
       "Output()"
      ]
     },
     "metadata": {},
     "output_type": "display_data"
    },
    {
     "data": {
      "application/vnd.jupyter.widget-view+json": {
       "model_id": "675770e6fac74594845e3fd19789b91d",
       "version_major": 2,
       "version_minor": 0
      },
      "text/plain": [
       "Button(description='[C]=F', style=ButtonStyle())"
      ]
     },
     "metadata": {},
     "output_type": "display_data"
    },
    {
     "data": {
      "application/vnd.jupyter.widget-view+json": {
       "model_id": "c322913db9504c4180686a567352ee1d",
       "version_major": 2,
       "version_minor": 0
      },
      "text/plain": [
       "Output()"
      ]
     },
     "metadata": {},
     "output_type": "display_data"
    }
   ],
   "source": [
    "# Newtonmeter\n",
    "button = widgets.Button(description='[F]=Nm')   # create button\n",
    "out = widgets.Output()                      # create output\n",
    "\n",
    "def clicked(x):                             # connecting function and output\n",
    "    with out:\n",
    "        clear_output()                      # clear output if button is clicked again\n",
    "        display(Markdown('$Nm=kg*m/s²  *m = kg*m²/s²$'))\n",
    "\n",
    "button.on_click(clicked)                    # execute function 'clicked' on click\n",
    "display(button,out)                         # display Button and output\n",
    "\n",
    "#Leistung - Watt\n",
    "button = widgets.Button(description='[P]=W')   # create button\n",
    "out = widgets.Output()                      # create output\n",
    "\n",
    "def clicked(x):                             # connecting function and output\n",
    "    with out:\n",
    "        clear_output()                      # clear output if button is clicked again\n",
    "        display(Markdown('$W=J/s = N*m/s = kg*m²/s³$'))\n",
    "\n",
    "button.on_click(clicked)                    # execute function 'clicked' on click\n",
    "display(button,out)                         # display Button and output\n",
    "\n",
    "#Energie - Joule\n",
    "button = widgets.Button(description='[W]=J')   # create button\n",
    "out = widgets.Output()                      # create output\n",
    "\n",
    "def clicked(x):                             # connecting function and output\n",
    "    with out:\n",
    "        clear_output()                      # clear output if button is clicked again\n",
    "        display(Markdown('$J=N*m = kg*m²/s²$'))\n",
    "\n",
    "button.on_click(clicked)                    # execute function 'clicked' on click\n",
    "display(button,out)                         # display Button and output\n",
    "\n",
    "#Widerstand - Ohm\n",
    "button = widgets.Button(description='[R]=Ω')   # create button\n",
    "out = widgets.Output()                      # create output\n",
    "\n",
    "def clicked(x):                             # connecting function and output\n",
    "    with out:\n",
    "        clear_output()                      # clear output if button is clicked again\n",
    "        display(Markdown('$Ω=V/A=kg*m²/A²*s³$'))\n",
    "\n",
    "button.on_click(clicked)                    # execute function 'clicked' on click\n",
    "display(button,out)                         # display Button and output\n",
    "\n",
    "#Spannung - Volt\n",
    "button = widgets.Button(description='[U]=V')   # create button\n",
    "out = widgets.Output()                      # create output\n",
    "\n",
    "def clicked(x):                             # connecting function and output\n",
    "    with out:\n",
    "        clear_output()                      # clear output if button is clicked again\n",
    "        display(Markdown('$V= N*m/A*s = kg*m²/A*s³$'))\n",
    "\n",
    "button.on_click(clicked)                    # execute function 'clicked' on click\n",
    "display(button,out)                         # display Button and output\n",
    "\n",
    "#elektr. Ladung - Coulomb\n",
    "button = widgets.Button(description='[Q]=C')   # create button\n",
    "out = widgets.Output()                      # create output\n",
    "\n",
    "def clicked(x):                             # connecting function and output\n",
    "    with out:\n",
    "        clear_output()                      # clear output if button is clicked again\n",
    "        display(Markdown('$C=A*s$'))\n",
    "\n",
    "button.on_click(clicked)                    # execute function 'clicked' on click\n",
    "display(button,out)                         # display Button and output\n",
    "\n",
    "#Volumen - l\n",
    "button = widgets.Button(description='[V]=l')   # create button\n",
    "out = widgets.Output()                      # create output\n",
    "\n",
    "def clicked(x):                             # connecting function and output\n",
    "    with out:\n",
    "        clear_output()                      # clear output if button is clicked again\n",
    "        display(Markdown('$l=10^-³*m³$'))\n",
    "\n",
    "button.on_click(clicked)                    # execute function 'clicked' on click\n",
    "display(button,out)                         # display Button and output\n",
    "\n",
    "#Druck - Pa\n",
    "button = widgets.Button(description='[ρ]=Pa')   # create button\n",
    "out = widgets.Output()                      # create output\n",
    "\n",
    "def clicked(x):                             # connecting function and output\n",
    "    with out:\n",
    "        clear_output()                      # clear output if button is clicked again\n",
    "        display(Markdown('$Pa=N/m^²=kg/s²*m$'))\n",
    "\n",
    "button.on_click(clicked)                    # execute function 'clicked' on click\n",
    "display(button,out)                         # display Button and output\n",
    "\n",
    "#Frequenz - Hz\n",
    "button = widgets.Button(description='[f]=Hz')   # create button\n",
    "out = widgets.Output()                      # create output\n",
    "\n",
    "def clicked(x):                             # connecting function and output\n",
    "    with out:\n",
    "        clear_output()                      # clear output if button is clicked again\n",
    "        display(Markdown('$Hz=1/s$'))\n",
    "\n",
    "button.on_click(clicked)                    # execute function 'clicked' on click\n",
    "display(button,out)                         # display Button and output\n",
    "\n",
    "#Impuls - Ns\n",
    "button = widgets.Button(description='[p]=Ns')   # create button\n",
    "out = widgets.Output()                      # create output\n",
    "\n",
    "def clicked(x):                             # connecting function and output\n",
    "    with out:\n",
    "        clear_output()                      # clear output if button is clicked again\n",
    "        display(Markdown('$Ns=kg*m/s$'))\n",
    "\n",
    "button.on_click(clicked)                    # execute function 'clicked' on click\n",
    "display(button,out)                         # display Button and output\n",
    "\n",
    "#Elektrische Feldstärke - V/m\n",
    "button = widgets.Button(description='[E]=V/m')   # create button\n",
    "out = widgets.Output()                      # create output\n",
    "\n",
    "def clicked(x):                             # connecting function and output\n",
    "    with out:\n",
    "        clear_output()                      # clear output if button is clicked again\n",
    "        display(Markdown('$V/m=N/C$'))\n",
    "\n",
    "button.on_click(clicked)                    # execute function 'clicked' on click\n",
    "display(button,out)                         # display Button and output\n",
    "\n",
    "#Kapazität - F\n",
    "button = widgets.Button(description='[C]=F')   # create button\n",
    "out = widgets.Output()                      # create output\n",
    "\n",
    "def clicked(x):                             # connecting function and output\n",
    "    with out:\n",
    "        clear_output()                      # clear output if button is clicked again\n",
    "        display(Markdown('$F=A*s/V$'))\n",
    "\n",
    "button.on_click(clicked)                    # execute function 'clicked' on click\n",
    "display(button,out)                         # display Button and output"
   ]
  },
  {
   "cell_type": "code",
   "execution_count": 3,
   "metadata": {},
   "outputs": [
    {
     "data": {
      "application/vnd.jupyter.widget-view+json": {
       "model_id": "f370b172464c4589891ad7440720c27f",
       "version_major": 2,
       "version_minor": 0
      },
      "text/plain": [
       "FloatText(value=7.5, description='Zahl:')"
      ]
     },
     "metadata": {},
     "output_type": "display_data"
    },
    {
     "data": {
      "application/vnd.jupyter.widget-view+json": {
       "model_id": "9b1aebab599540e08b68f22339f029ab",
       "version_major": 2,
       "version_minor": 0
      },
      "text/plain": [
       "Output()"
      ]
     },
     "metadata": {},
     "output_type": "display_data"
    }
   ],
   "source": [
    "'''\n",
    "Noch zu beachten ist:\n",
    "float number if statemant wird übersprungen direkt zur else bedingung;\n",
    "negative zahlen werden nicht konvertiert\n",
    "''' \n",
    "# Power converter\n",
    "eingabe = widgets.FloatText(\n",
    "    value=7.5,\n",
    "    description='Zahl:',\n",
    "    disabled=False\n",
    ")\n",
    "output = widgets.Output()\n",
    "\n",
    "display(eingabe, output)\n",
    "\n",
    "def number(b):\n",
    "    with output:\n",
    "        clear_output()\n",
    "        nbr_int = eingabe.value\n",
    "       \n",
    "\n",
    "        #search power for integer or float\n",
    "        if nbr_int == 0:\n",
    "            display(Markdown('$0$'))\n",
    "        elif nbr_int >= 1 or nbr_int <= -1:\n",
    "            if nbr_int < 100 and nbr_int >= 1 or nbr_int <= -1 and nbr_int > -100:\n",
    "                display(Markdown(f'{nbr_int}'))\n",
    "            elif nbr_int >= 100 and nbr_int < 10**3 or nbr_int <= -100 and nbr_int > -10**3:\n",
    "                nbr_int = nbr_int /10**2\n",
    "                display(Markdown(f'{nbr_int} $ * 10^2$'))\n",
    "            elif nbr_int >= 1000 and nbr_int < 10**4 or nbr_int <= -10**3 and nbr_int > -10**4:\n",
    "                nbr_int = nbr_int /10**3\n",
    "                display(Markdown(f'{nbr_int}$*10^3$'))\n",
    "            elif nbr_int >= 10000 and nbr_int < 10**5 or nbr_int <= -10**4 and nbr_int > -10**5:\n",
    "                nbr_int = nbr_int /10**3\n",
    "                display(Markdown(f'{nbr_int}$*10^3$'))\n",
    "            elif nbr_int >= 100000 and nbr_int < 10**6 or nbr_int <= -10**5 and nbr_int > -10**6:\n",
    "                nbr_int = nbr_int /10**3\n",
    "                display(Markdown(f'{nbr_int}$*10^3$'))\n",
    "            elif nbr_int >= 1000000 and nbr_int < 10**7 or nbr_int <= -10**6 and nbr_int > -10**7:\n",
    "                nbr_int = nbr_int /10**6\n",
    "                display(Markdown(f'{nbr_int}$*10^6$'))\n",
    "            elif nbr_int >= 10**7 and nbr_int < 10**8 or nbr_int <= -10**7 and nbr_int > -10**8:\n",
    "                nbr_int = nbr_int /10**6\n",
    "                display(Markdown(f'{nbr_int}$*10^6$'))\n",
    "            elif nbr_int >= 10**8 and nbr_int < 1*10**9 or nbr_int <= -10**8 and nbr_int > -10**9:\n",
    "                nbr_int = nbr_int /10**6\n",
    "                display(Markdown(f'{nbr_int}$*10^6$'))\n",
    "            elif nbr_int >= 1*10**9 and nbr_int < 1*10**10 or nbr_int <= -10**9 and nbr_int > -10**10:\n",
    "                nbr_int = nbr_int /10**9\n",
    "                display(Markdown(f'{nbr_int}$*10^9$'))\n",
    "            elif nbr_int >= 1*10**10 and nbr_int < 1*10**11 or nbr_int <= -10**10 and nbr_int > -10**11:\n",
    "                nbr_int = nbr_int /10**9\n",
    "                display(Markdown(f'{nbr_int}$*10^9$'))\n",
    "            elif nbr_int >= 1*10**11 and nbr_int < 1*10**12 or nbr_int <= -10**11 and nbr_int > -10**12:\n",
    "                nbr_int = nbr_int /10**9\n",
    "                display(Markdown(f'{nbr_int}$*10^9$'))\n",
    "            elif nbr_int >= 1*10**12 and nbr_int < 1*10**13 or nbr_int <= -10**12 and nbr_int > -10**13:\n",
    "                nbr_int = nbr_int /10**12\n",
    "                display(Markdown(f'{nbr_int}$*10^(12)$'))\n",
    "            elif nbr_int >= 1*10**13 and nbr_int < 1*10**14 or nbr_int <= -10**13 and nbr_int > -10**14:\n",
    "                nbr_int = nbr_int /10**12\n",
    "                display(Markdown(f'{nbr_int}$*10^(12)$'))\n",
    "            elif nbr_int >= 1*10**14 and nbr_int < 1*10**15 or nbr_int <= -10**14 and nbr_int > -10**15:\n",
    "                nbr_int = nbr_int /10**12\n",
    "                display(Markdown(f'{nbr_int}$*10^(12)$'))\n",
    "            elif nbr_int >= 1*10**15 and nbr_int < 1*10**16 or nbr_int <= -10**15 and nbr_int > -10**16:\n",
    "                nbr_int = nbr_int /10**15\n",
    "                display(Markdown(f'{nbr_int}$*10^(15)$'))\n",
    "            elif nbr_int >= 1*10**16 and nbr_int < 1*10**17 or nbr_int <= -10**16 and nbr_int > -10**17:\n",
    "                nbr_int = nbr_int /10**15\n",
    "                display(Markdown(f'{nbr_int}$*10^(15)$'))\n",
    "            elif nbr_int >= 1*10**17 and nbr_int < 1*10**18 or nbr_int <= -10**17 and nbr_int > -10**18:\n",
    "                nbr_int = nbr_int /10**15\n",
    "                display(Markdown(f'{nbr_int}$*10^(15)$'))\n",
    "            elif nbr_int >= 1*10**18 and nbr_int < 1*10**19 or nbr_int <= -10**18 and nbr_int > -10**19:\n",
    "                nbr_int = nbr_int /10**18\n",
    "                display(Markdown(f'{nbr_int}$*10^(18)$'))\n",
    "            elif nbr_int >= 1*10**19 and nbr_int < 1*10**20 or nbr_int <= -10**19 and nbr_int > -10**20:\n",
    "                nbr_int = nbr_int /10**18\n",
    "                display(Markdown(f'{nbr_int}$*10^(18)$'))\n",
    "            elif nbr_int >= 1*10**20 and nbr_int < 1*10**21 or nbr_int <= -10**20 and nbr_int > -10**21:\n",
    "                nbr_int = nbr_int /10**18\n",
    "                display(Markdown(f'{nbr_int}$*10^(18)$'))\n",
    "            elif nbr_int >= 1*10**21 and nbr_int < 1*10**22 or nbr_int <= -10**21 and nbr_int > -10**22:\n",
    "                nbr_int = nbr_int /10**21\n",
    "                display(Markdown(f'{nbr_int}$*10^(21)$'))\n",
    "            elif nbr_int >= 1*10**22 and nbr_int < 1*10**23 or nbr_int <= -10**22 and nbr_int > -10**23:\n",
    "                nbr_int = nbr_int /10**21\n",
    "                display(Markdown(f'{nbr_int}$*10^(21)$'))\n",
    "            elif nbr_int >= 1*10**23 and nbr_int < 1*10**24 or nbr_int <= -10**23 and nbr_int > -10**24:\n",
    "                nbr_int = nbr_int /10**21\n",
    "                display(Markdown(f'{nbr_int}$*10^(21)$'))\n",
    "            elif nbr_int >= 1*10**24 and nbr_int < 1*10**25 or nbr_int <= -10**24 and nbr_int > -10**25:\n",
    "                nbr_int = nbr_int /10**24\n",
    "                display(Markdown(f'{nbr_int}$*10^(24)$'))\n",
    "            elif nbr_int >= 1*10**25 and nbr_int < 1*10**26 or nbr_int <= -10**25 and nbr_int > -10**26:\n",
    "                nbr_int = nbr_int /10**24\n",
    "                display(Markdown(f'{nbr_int}$*10^(24)$'))\n",
    "            elif nbr_int >= 1*10**26 and nbr_int < 1*10**27 or nbr_int <= -10**26 and nbr_int > -10**27:\n",
    "                nbr_int = nbr_int /10**24\n",
    "                display(Markdown(f'{nbr_int}$*10^(24)$'))\n",
    "            else:\n",
    "                display(Markdown('Nummer zu groß! Maximale Zahlen bis $9.9999*10^27$'))\n",
    "        elif nbr_int > 0 and nbr_int < 1 or nbr_int < 0 and nbr_int > -1:\n",
    "            if nbr_int < 1 and nbr_int >= 10**-2 or nbr_int > -1 and nbr_int <= -10**-2:\n",
    "                display(Markdown(f'{nbr_int}'))\n",
    "            elif nbr_int < 10**-2 and nbr_int >= 1*10**-3 or nbr_int >= -10**-2 and nbr_int < -10**-3:\n",
    "                nbr_int = nbr_int * 10**3\n",
    "                display(Markdown(f'{nbr_int}$*10^-3$'))\n",
    "            elif nbr_int < 10**-3 and nbr_int >= 1*10**-4 or nbr_int >= -10**-3 and nbr_int < -10**-4:\n",
    "                nbr_int = nbr_int * 10**3\n",
    "                display(Markdown(f'{nbr_int}$*10^-3$'))\n",
    "            elif nbr_int < 10**-4 and nbr_int >= 1*10**-5 or nbr_int >= -10**-4 and nbr_int < -10**-5:\n",
    "                nbr_int = nbr_int * 10**3\n",
    "                display(Markdown(f'{nbr_int}$*10^-3$'))\n",
    "            elif nbr_int < 10**-5 and nbr_int >= 1*10**-6 or nbr_int >= -10**-5 and nbr_int < -10**-6:\n",
    "                nbr_int = nbr_int * 10**6\n",
    "                display(Markdown(f'{nbr_int}$*10^-6$'))\n",
    "            elif nbr_int < 10**-6 and nbr_int >= 1*10**-7 or nbr_int >= -10**-6 and nbr_int < -10**-7:\n",
    "                nbr_int = nbr_int * 10**6\n",
    "                display(Markdown(f'{nbr_int}$*10^-6$'))\n",
    "            elif nbr_int < 10**-7 and nbr_int >= 1*10**-8 or nbr_int >= -10**-7 and nbr_int < -10**-8:\n",
    "                nbr_int = nbr_int * 10**6\n",
    "                display(Markdown(f'{nbr_int}$*10^-6$'))\n",
    "            elif nbr_int < 1*10**-8 and nbr_int >= 1*10**-9 or nbr_int >= -10**-8 and nbr_int < -10**-9:\n",
    "                nbr_int = nbr_int * 10**9\n",
    "                display(Markdown(f'{nbr_int}$*10^-9$'))\n",
    "            elif nbr_int < 1*10**-9 and nbr_int >= 1*10**-10 or nbr_int >= -10**-9 and nbr_int < -10**-10:\n",
    "                nbr_int = nbr_int * 10**9\n",
    "                display(Markdown(f'{nbr_int}$*10^-9$'))\n",
    "            elif nbr_int < 1*10**-10 and nbr_int >= 1*10**-11 or nbr_int >= -10**-10 and nbr_int < -10**-11:\n",
    "                nbr_int = nbr_int *10**9\n",
    "                display(Markdown(f'{nbr_int}$*10^-9$'))\n",
    "            elif nbr_int < 1*10**-11 and nbr_int >= 1*10**-12 or nbr_int >= -10**-11 and nbr_int < -10**-12:\n",
    "                nbr_int = nbr_int *10**12\n",
    "                display(Markdown(f'{nbr_int}$*10^-(12)$'))\n",
    "            elif nbr_int < 1*10**-12 and nbr_int >= 1*10**-13 or nbr_int >= -10**-12 and nbr_int < -10**-13:\n",
    "                nbr_int = nbr_int *10**12\n",
    "                display(Markdown(f'{nbr_int}$*10^-(12)$'))\n",
    "            elif nbr_int < 1*10**-13 and nbr_int >= 1*10**-14 or nbr_int >= -10**-13 and nbr_int < -10**-14:\n",
    "                nbr_int = nbr_int *10**12\n",
    "                display(Markdown(f'{nbr_int}$*10^-(12)$'))\n",
    "            elif nbr_int < 1*10**-14 and nbr_int >= 1*10**-15 or nbr_int >= -10**-14 and nbr_int < -10**-15:\n",
    "                nbr_int = nbr_int *10**15\n",
    "                display(Markdown(f'{nbr_int}$*10^-(15)$'))\n",
    "            elif nbr_int < 1*10**-15 and nbr_int >= 1*10**-16 or nbr_int >= -10**-15 and nbr_int < -10**-16:\n",
    "                nbr_int = nbr_int *10**15\n",
    "                display(Markdown(f'{nbr_int}$*10^-(15)$'))\n",
    "            elif nbr_int < 1*10**-16 and nbr_int >= 1*10**-17 or nbr_int >= -10**-16 and nbr_int < -10**-17:\n",
    "                nbr_int = nbr_int *10**15\n",
    "                display(Markdown(f'{nbr_int}$*10^-(15)$'))\n",
    "            elif nbr_int < 1*10**-17 and nbr_int >= 1*10**-18 or nbr_int >= -10**-17 and nbr_int < -10**-18:\n",
    "                nbr_int = nbr_int *10**18\n",
    "                display(Markdown(f'{nbr_int}$*10^-(18)$'))\n",
    "            elif nbr_int < 1*10**-18 and nbr_int >= 1*10**-19 or nbr_int >= -10**-18 and nbr_int < -10**-19:\n",
    "                nbr_int = nbr_int *10**18\n",
    "                display(Markdown(f'{nbr_int}$*10^-(18)$'))\n",
    "            elif nbr_int < 1*10**-19 and nbr_int >= 1*10**-20 or nbr_int >= -10**-19 and nbr_int < -10**-20:\n",
    "                nbr_int = nbr_int *10**18\n",
    "                display(Markdown(f'{nbr_int}$*10^-(18)$'))\n",
    "            elif nbr_int < 1*10**-20 and nbr_int >= 1*10**-21 or nbr_int >= -10**-20 and nbr_int < -10**-21:\n",
    "                nbr_int = nbr_int *10**21\n",
    "                display(Markdown(f'{nbr_int}$*10^-(21)$'))\n",
    "            elif nbr_int < 1*10**-21 and nbr_int >= 1*10**-22 or nbr_int >= -10**-21 and nbr_int < -10**-22:\n",
    "                nbr_int = nbr_int *10**21\n",
    "                display(Markdown(f'{nbr_int}$*10^-(21)$'))\n",
    "            elif nbr_int < 1*10**-22 and nbr_int >= 1*10**-23 or nbr_int >= -10**-22 and nbr_int < -10**-23:\n",
    "                nbr_int = nbr_int *10**21\n",
    "                display(Markdown(f'{nbr_int}$*10^-(21)$'))\n",
    "            elif nbr_int < 1*10**-23 and nbr_int >= 1*10**-24 or nbr_int >= -10**-23 and nbr_int < -10**-24:\n",
    "                nbr_int = nbr_int *10**24\n",
    "                display(Markdown(f'{nbr_int}$*10^-(24)$'))\n",
    "            elif nbr_int < 1*10**-24 and nbr_int >= 1*10**-25 or nbr_int >= -10**-24 and nbr_int < -10**-25:\n",
    "                nbr_int = nbr_int *10**24\n",
    "                display(Markdown(f'{nbr_int}$*10^-(24)$'))\n",
    "            elif nbr_int < 1*10**-25 and nbr_int >= 1*10**-26 or nbr_int >= -10**-25 and nbr_int < -10**-26:\n",
    "                nbr_int = nbr_int *10**24\n",
    "                display(Markdown(f'{nbr_int}$*10^-(24)$'))\n",
    "            else:\n",
    "                display(Markdown('Nummer zu klein! Minimale Zahlen bis $9.9999*10^-27$'))\n",
    "        else:\n",
    "            display(Markdown('Die Zahl konnte nicht erkannt werden! (Lassen Sie die Einheit weg)'))\n",
    "\n",
    "\n",
    "eingabe.observe(number,\"value\")\n"
   ]
  },
  {
   "cell_type": "markdown",
   "metadata": {},
   "source": [
    "## Danksagung\n",
    "\n",
    "Dieses digitale Lehr-/Lernmaterial wurde im Rahmen des Programms Fellowships für Innovationen in der digitalen Hochschullehre des Ministeriums für Kultur und Wissenschaft des Landes Nordrhein-Westfalen und des Stifterverbandes entwickelt. Es steht als Open Educational Ressources unter der Lizenz [Creative Commons Attribution-ShareAlike 4.0 International License (CC BY-SA 4.0)](https://creativecommons.org/licenses/by-sa/4.0/) zur Verfügung.<br>\n",
    "<img align=\"left\\\" src=\"https://licensebuttons.net/l/by-sa/3.0/88x31.png\\\">"
   ]
  },
  {
   "cell_type": "code",
   "execution_count": null,
   "metadata": {},
   "outputs": [],
   "source": []
  }
 ],
 "metadata": {
  "kernelspec": {
   "display_name": "Python 3",
   "language": "python",
   "name": "python3"
  },
  "language_info": {
   "codemirror_mode": {
    "name": "ipython",
    "version": 3
   },
   "file_extension": ".py",
   "mimetype": "text/x-python",
   "name": "python",
   "nbconvert_exporter": "python",
   "pygments_lexer": "ipython3",
   "version": "3.7.6"
  }
 },
 "nbformat": 4,
 "nbformat_minor": 4
}
